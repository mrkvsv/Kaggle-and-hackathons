{
  "cells": [
    {
      "cell_type": "markdown",
      "metadata": {
        "id": "CxqPyh5y5s-n"
      },
      "source": [
        "# Классификация агрокультур на основе изменения показателя вегетационных индексов во временной последовательности"
      ]
    },
    {
      "cell_type": "markdown",
      "metadata": {
        "id": "dAZMtVkq-YGP"
      },
      "source": [
        "Перед участниками чемпионата стоит задача классификации\n",
        "агрокультур на основе изменения показателя вегетационных индексов во\n",
        "временной последовательности. Созданная за время чемпионата модель\n",
        "поможет оптимизировать рабочие процессы в сфере сельского хозяйства,\n",
        "обеспечить органы власти актуальными и достоверными сведениями,\n",
        "увеличить социальный, инвестиционный и производственный потенциал\n",
        "отрасли, а также повысить достоверность и удобство использования\n",
        "информации о сельскохозяйственных объектах."
      ]
    },
    {
      "cell_type": "markdown",
      "metadata": {
        "id": "hQFkIwCk-c6F"
      },
      "source": [
        "Столбцы:\n",
        "\n",
        "● `id` – идентификатор объекта (поля)  \n",
        "● `area` – площадь поля в га  \n",
        "● `nd mean YYYY-MM-DD` – медианное значение вегетационного индекса\n",
        "NDVI для данного поля на указанную дату  \n",
        "● `geo` – координаты границ поля  \n",
        "● `crop` – столбец для предсказания, содержит тип произрастающей\n",
        "культуры по данным сельхозтоваропроизводителей:\n",
        "* 0 - подсолнечник\n",
        "* 1 - картофель\n",
        "* 2 - пшеница озимая\n",
        "* 3 - гречиха\n",
        "* 4 - кукуруза\n",
        "* 5 - пшеница яровая\n",
        "* 6 - сахарная свекла\n"
      ]
    },
    {
      "cell_type": "code",
      "execution_count": null,
      "metadata": {
        "id": "4L2MF_PX3K0i",
        "colab": {
          "base_uri": "https://localhost:8080/"
        },
        "outputId": "fd5ad658-ea83-4d15-d621-72e22e1819be"
      },
      "outputs": [
        {
          "output_type": "stream",
          "name": "stdout",
          "text": [
            "\u001b[K     |████████████████████████████████| 76.6 MB 1.9 MB/s \n",
            "\u001b[K     |████████████████████████████████| 348 kB 5.0 MB/s \n",
            "\u001b[K     |████████████████████████████████| 209 kB 49.3 MB/s \n",
            "\u001b[K     |████████████████████████████████| 81 kB 8.4 MB/s \n",
            "\u001b[K     |████████████████████████████████| 78 kB 217 kB/s \n",
            "\u001b[K     |████████████████████████████████| 147 kB 48.2 MB/s \n",
            "\u001b[K     |████████████████████████████████| 50 kB 2.6 MB/s \n",
            "\u001b[K     |████████████████████████████████| 112 kB 41.9 MB/s \n",
            "\u001b[?25h  Building wheel for pyperclip (setup.py) ... \u001b[?25l\u001b[?25hdone\n"
          ]
        }
      ],
      "source": [
        "!pip install catboost --q\n",
        "!pip install optuna -q"
      ]
    },
    {
      "cell_type": "code",
      "execution_count": null,
      "metadata": {
        "id": "CyXwWrJS5iWM"
      },
      "outputs": [],
      "source": [
        "import pandas as pd\n",
        "import numpy as np\n",
        "import seaborn as sns\n",
        "import matplotlib.pyplot as plt\n",
        "import catboost\n",
        "import xgboost as xgb\n",
        "import optuna\n",
        "import lightgbm as lgb\n",
        "import warnings\n",
        "\n",
        "from catboost import CatBoostClassifier\n",
        "from catboost import Pool\n",
        "from sklearn.model_selection import train_test_split\n",
        "from sklearn.ensemble import RandomForestClassifier, VotingClassifier, StackingClassifier\n",
        "from sklearn.neighbors import KNeighborsClassifier\n",
        "from sklearn.naive_bayes import GaussianNB\n",
        "from sklearn.svm import SVC\n",
        "from sklearn.model_selection import  train_test_split, cross_val_score, RandomizedSearchCV\n",
        "from sklearn.preprocessing import StandardScaler\n",
        "from sklearn.linear_model import LogisticRegression\n",
        "from sklearn.metrics import recall_score, make_scorer\n",
        "from sklearn.pipeline import Pipeline\n",
        "from scipy.stats import randint as sp_randint\n",
        "from scipy.stats import uniform as sp_randfloat\n",
        "\n",
        "warnings.filterwarnings(\"ignore\")"
      ]
    },
    {
      "cell_type": "markdown",
      "metadata": {
        "id": "dcBxBpe8AB8K"
      },
      "source": [
        "## Знакомство с данными"
      ]
    },
    {
      "cell_type": "code",
      "execution_count": null,
      "metadata": {
        "id": "mCS3mXpF5rlJ"
      },
      "outputs": [],
      "source": [
        "df = pd.read_csv(\"https://lodmedia.hb.bizmrg.com/case_files/883465/train_dataset_train.csv\")"
      ]
    },
    {
      "cell_type": "code",
      "execution_count": null,
      "metadata": {
        "colab": {
          "base_uri": "https://localhost:8080/",
          "height": 317
        },
        "id": "Xi6pEc_151JK",
        "outputId": "730f9d84-7be3-469e-8ddc-df3ecc060480"
      },
      "outputs": [
        {
          "output_type": "execute_result",
          "data": {
            "text/plain": [
              "     id  area  nd_mean_2021-04-16  nd_mean_2021-04-19  nd_mean_2021-04-22  \\\n",
              "0  3536    20            0.072846            0.261778            0.062981   \n",
              "1  3739    45            0.332928            0.287182            0.097138   \n",
              "2  1294    28            0.013679            0.007055            0.120804   \n",
              "3  2859    19            0.105976            0.052500            0.001917   \n",
              "4  3685    33            0.130885            0.063492            0.024416   \n",
              "\n",
              "   nd_mean_2021-04-26  nd_mean_2021-04-28  nd_mean_2021-05-02  \\\n",
              "0            0.104442            0.021096            0.052202   \n",
              "1            0.152467            0.075484            0.000000   \n",
              "2            0.037839            0.259125            0.000000   \n",
              "3            0.011531            0.042316            0.000000   \n",
              "4            0.000000            0.150671            0.046717   \n",
              "\n",
              "   nd_mean_2021-05-04  nd_mean_2021-05-07  ...  nd_mean_2021-05-20  \\\n",
              "0            0.158723            0.000000  ...            0.108999   \n",
              "1            0.140326            0.163340  ...            0.134469   \n",
              "2            0.037446            0.506516  ...            0.084467   \n",
              "3            0.000000            0.043604  ...            0.000000   \n",
              "4            0.254284            0.101479  ...            0.206158   \n",
              "\n",
              "   nd_mean_2021-06-04  nd_mean_2021-06-05  nd_mean_2021-06-10  \\\n",
              "0            0.118854            0.000000            0.000000   \n",
              "1            0.208268            0.000000            0.000000   \n",
              "2            0.000000            0.210496            0.130467   \n",
              "3            0.642226            0.132886            0.000000   \n",
              "4            0.099058            0.152003            0.073357   \n",
              "\n",
              "   nd_mean_2021-07-05  nd_mean_2021-08-13  nd_mean_2021-08-27  \\\n",
              "0            0.026784            0.126832            0.614770   \n",
              "1            0.111148            0.174914            0.179612   \n",
              "2            0.155225            0.090607            0.054127   \n",
              "3            0.570928            0.073492            0.378900   \n",
              "4            0.147842            0.157676            0.012048   \n",
              "\n",
              "   nd_mean_2021-05-08  nd_mean_2021-05-24  crop  \n",
              "0            0.008857            0.081498     3  \n",
              "1            0.113071            0.046997     4  \n",
              "2            0.007437            0.219614     2  \n",
              "3            0.327677            0.586523     5  \n",
              "4            0.054223            0.017539     4  \n",
              "\n",
              "[5 rows x 74 columns]"
            ],
            "text/html": [
              "\n",
              "  <div id=\"df-9ed2205d-4196-4858-917d-1e3b9e8aef70\">\n",
              "    <div class=\"colab-df-container\">\n",
              "      <div>\n",
              "<style scoped>\n",
              "    .dataframe tbody tr th:only-of-type {\n",
              "        vertical-align: middle;\n",
              "    }\n",
              "\n",
              "    .dataframe tbody tr th {\n",
              "        vertical-align: top;\n",
              "    }\n",
              "\n",
              "    .dataframe thead th {\n",
              "        text-align: right;\n",
              "    }\n",
              "</style>\n",
              "<table border=\"1\" class=\"dataframe\">\n",
              "  <thead>\n",
              "    <tr style=\"text-align: right;\">\n",
              "      <th></th>\n",
              "      <th>id</th>\n",
              "      <th>area</th>\n",
              "      <th>nd_mean_2021-04-16</th>\n",
              "      <th>nd_mean_2021-04-19</th>\n",
              "      <th>nd_mean_2021-04-22</th>\n",
              "      <th>nd_mean_2021-04-26</th>\n",
              "      <th>nd_mean_2021-04-28</th>\n",
              "      <th>nd_mean_2021-05-02</th>\n",
              "      <th>nd_mean_2021-05-04</th>\n",
              "      <th>nd_mean_2021-05-07</th>\n",
              "      <th>...</th>\n",
              "      <th>nd_mean_2021-05-20</th>\n",
              "      <th>nd_mean_2021-06-04</th>\n",
              "      <th>nd_mean_2021-06-05</th>\n",
              "      <th>nd_mean_2021-06-10</th>\n",
              "      <th>nd_mean_2021-07-05</th>\n",
              "      <th>nd_mean_2021-08-13</th>\n",
              "      <th>nd_mean_2021-08-27</th>\n",
              "      <th>nd_mean_2021-05-08</th>\n",
              "      <th>nd_mean_2021-05-24</th>\n",
              "      <th>crop</th>\n",
              "    </tr>\n",
              "  </thead>\n",
              "  <tbody>\n",
              "    <tr>\n",
              "      <th>0</th>\n",
              "      <td>3536</td>\n",
              "      <td>20</td>\n",
              "      <td>0.072846</td>\n",
              "      <td>0.261778</td>\n",
              "      <td>0.062981</td>\n",
              "      <td>0.104442</td>\n",
              "      <td>0.021096</td>\n",
              "      <td>0.052202</td>\n",
              "      <td>0.158723</td>\n",
              "      <td>0.000000</td>\n",
              "      <td>...</td>\n",
              "      <td>0.108999</td>\n",
              "      <td>0.118854</td>\n",
              "      <td>0.000000</td>\n",
              "      <td>0.000000</td>\n",
              "      <td>0.026784</td>\n",
              "      <td>0.126832</td>\n",
              "      <td>0.614770</td>\n",
              "      <td>0.008857</td>\n",
              "      <td>0.081498</td>\n",
              "      <td>3</td>\n",
              "    </tr>\n",
              "    <tr>\n",
              "      <th>1</th>\n",
              "      <td>3739</td>\n",
              "      <td>45</td>\n",
              "      <td>0.332928</td>\n",
              "      <td>0.287182</td>\n",
              "      <td>0.097138</td>\n",
              "      <td>0.152467</td>\n",
              "      <td>0.075484</td>\n",
              "      <td>0.000000</td>\n",
              "      <td>0.140326</td>\n",
              "      <td>0.163340</td>\n",
              "      <td>...</td>\n",
              "      <td>0.134469</td>\n",
              "      <td>0.208268</td>\n",
              "      <td>0.000000</td>\n",
              "      <td>0.000000</td>\n",
              "      <td>0.111148</td>\n",
              "      <td>0.174914</td>\n",
              "      <td>0.179612</td>\n",
              "      <td>0.113071</td>\n",
              "      <td>0.046997</td>\n",
              "      <td>4</td>\n",
              "    </tr>\n",
              "    <tr>\n",
              "      <th>2</th>\n",
              "      <td>1294</td>\n",
              "      <td>28</td>\n",
              "      <td>0.013679</td>\n",
              "      <td>0.007055</td>\n",
              "      <td>0.120804</td>\n",
              "      <td>0.037839</td>\n",
              "      <td>0.259125</td>\n",
              "      <td>0.000000</td>\n",
              "      <td>0.037446</td>\n",
              "      <td>0.506516</td>\n",
              "      <td>...</td>\n",
              "      <td>0.084467</td>\n",
              "      <td>0.000000</td>\n",
              "      <td>0.210496</td>\n",
              "      <td>0.130467</td>\n",
              "      <td>0.155225</td>\n",
              "      <td>0.090607</td>\n",
              "      <td>0.054127</td>\n",
              "      <td>0.007437</td>\n",
              "      <td>0.219614</td>\n",
              "      <td>2</td>\n",
              "    </tr>\n",
              "    <tr>\n",
              "      <th>3</th>\n",
              "      <td>2859</td>\n",
              "      <td>19</td>\n",
              "      <td>0.105976</td>\n",
              "      <td>0.052500</td>\n",
              "      <td>0.001917</td>\n",
              "      <td>0.011531</td>\n",
              "      <td>0.042316</td>\n",
              "      <td>0.000000</td>\n",
              "      <td>0.000000</td>\n",
              "      <td>0.043604</td>\n",
              "      <td>...</td>\n",
              "      <td>0.000000</td>\n",
              "      <td>0.642226</td>\n",
              "      <td>0.132886</td>\n",
              "      <td>0.000000</td>\n",
              "      <td>0.570928</td>\n",
              "      <td>0.073492</td>\n",
              "      <td>0.378900</td>\n",
              "      <td>0.327677</td>\n",
              "      <td>0.586523</td>\n",
              "      <td>5</td>\n",
              "    </tr>\n",
              "    <tr>\n",
              "      <th>4</th>\n",
              "      <td>3685</td>\n",
              "      <td>33</td>\n",
              "      <td>0.130885</td>\n",
              "      <td>0.063492</td>\n",
              "      <td>0.024416</td>\n",
              "      <td>0.000000</td>\n",
              "      <td>0.150671</td>\n",
              "      <td>0.046717</td>\n",
              "      <td>0.254284</td>\n",
              "      <td>0.101479</td>\n",
              "      <td>...</td>\n",
              "      <td>0.206158</td>\n",
              "      <td>0.099058</td>\n",
              "      <td>0.152003</td>\n",
              "      <td>0.073357</td>\n",
              "      <td>0.147842</td>\n",
              "      <td>0.157676</td>\n",
              "      <td>0.012048</td>\n",
              "      <td>0.054223</td>\n",
              "      <td>0.017539</td>\n",
              "      <td>4</td>\n",
              "    </tr>\n",
              "  </tbody>\n",
              "</table>\n",
              "<p>5 rows × 74 columns</p>\n",
              "</div>\n",
              "      <button class=\"colab-df-convert\" onclick=\"convertToInteractive('df-9ed2205d-4196-4858-917d-1e3b9e8aef70')\"\n",
              "              title=\"Convert this dataframe to an interactive table.\"\n",
              "              style=\"display:none;\">\n",
              "        \n",
              "  <svg xmlns=\"http://www.w3.org/2000/svg\" height=\"24px\"viewBox=\"0 0 24 24\"\n",
              "       width=\"24px\">\n",
              "    <path d=\"M0 0h24v24H0V0z\" fill=\"none\"/>\n",
              "    <path d=\"M18.56 5.44l.94 2.06.94-2.06 2.06-.94-2.06-.94-.94-2.06-.94 2.06-2.06.94zm-11 1L8.5 8.5l.94-2.06 2.06-.94-2.06-.94L8.5 2.5l-.94 2.06-2.06.94zm10 10l.94 2.06.94-2.06 2.06-.94-2.06-.94-.94-2.06-.94 2.06-2.06.94z\"/><path d=\"M17.41 7.96l-1.37-1.37c-.4-.4-.92-.59-1.43-.59-.52 0-1.04.2-1.43.59L10.3 9.45l-7.72 7.72c-.78.78-.78 2.05 0 2.83L4 21.41c.39.39.9.59 1.41.59.51 0 1.02-.2 1.41-.59l7.78-7.78 2.81-2.81c.8-.78.8-2.07 0-2.86zM5.41 20L4 18.59l7.72-7.72 1.47 1.35L5.41 20z\"/>\n",
              "  </svg>\n",
              "      </button>\n",
              "      \n",
              "  <style>\n",
              "    .colab-df-container {\n",
              "      display:flex;\n",
              "      flex-wrap:wrap;\n",
              "      gap: 12px;\n",
              "    }\n",
              "\n",
              "    .colab-df-convert {\n",
              "      background-color: #E8F0FE;\n",
              "      border: none;\n",
              "      border-radius: 50%;\n",
              "      cursor: pointer;\n",
              "      display: none;\n",
              "      fill: #1967D2;\n",
              "      height: 32px;\n",
              "      padding: 0 0 0 0;\n",
              "      width: 32px;\n",
              "    }\n",
              "\n",
              "    .colab-df-convert:hover {\n",
              "      background-color: #E2EBFA;\n",
              "      box-shadow: 0px 1px 2px rgba(60, 64, 67, 0.3), 0px 1px 3px 1px rgba(60, 64, 67, 0.15);\n",
              "      fill: #174EA6;\n",
              "    }\n",
              "\n",
              "    [theme=dark] .colab-df-convert {\n",
              "      background-color: #3B4455;\n",
              "      fill: #D2E3FC;\n",
              "    }\n",
              "\n",
              "    [theme=dark] .colab-df-convert:hover {\n",
              "      background-color: #434B5C;\n",
              "      box-shadow: 0px 1px 3px 1px rgba(0, 0, 0, 0.15);\n",
              "      filter: drop-shadow(0px 1px 2px rgba(0, 0, 0, 0.3));\n",
              "      fill: #FFFFFF;\n",
              "    }\n",
              "  </style>\n",
              "\n",
              "      <script>\n",
              "        const buttonEl =\n",
              "          document.querySelector('#df-9ed2205d-4196-4858-917d-1e3b9e8aef70 button.colab-df-convert');\n",
              "        buttonEl.style.display =\n",
              "          google.colab.kernel.accessAllowed ? 'block' : 'none';\n",
              "\n",
              "        async function convertToInteractive(key) {\n",
              "          const element = document.querySelector('#df-9ed2205d-4196-4858-917d-1e3b9e8aef70');\n",
              "          const dataTable =\n",
              "            await google.colab.kernel.invokeFunction('convertToInteractive',\n",
              "                                                     [key], {});\n",
              "          if (!dataTable) return;\n",
              "\n",
              "          const docLinkHtml = 'Like what you see? Visit the ' +\n",
              "            '<a target=\"_blank\" href=https://colab.research.google.com/notebooks/data_table.ipynb>data table notebook</a>'\n",
              "            + ' to learn more about interactive tables.';\n",
              "          element.innerHTML = '';\n",
              "          dataTable['output_type'] = 'display_data';\n",
              "          await google.colab.output.renderOutput(dataTable, element);\n",
              "          const docLink = document.createElement('div');\n",
              "          docLink.innerHTML = docLinkHtml;\n",
              "          element.appendChild(docLink);\n",
              "        }\n",
              "      </script>\n",
              "    </div>\n",
              "  </div>\n",
              "  "
            ]
          },
          "metadata": {},
          "execution_count": 4
        }
      ],
      "source": [
        "df.head()"
      ]
    },
    {
      "cell_type": "code",
      "execution_count": null,
      "metadata": {
        "colab": {
          "base_uri": "https://localhost:8080/"
        },
        "id": "H2RWgxY651eN",
        "outputId": "c92b8d09-aa9c-4279-f809-8b5b39fc895d"
      },
      "outputs": [
        {
          "output_type": "stream",
          "name": "stdout",
          "text": [
            "<class 'pandas.core.frame.DataFrame'>\n",
            "RangeIndex: 4830 entries, 0 to 4829\n",
            "Data columns (total 74 columns):\n",
            " #   Column              Non-Null Count  Dtype  \n",
            "---  ------              --------------  -----  \n",
            " 0   id                  4830 non-null   int64  \n",
            " 1   area                4830 non-null   int64  \n",
            " 2   nd_mean_2021-04-16  4830 non-null   float64\n",
            " 3   nd_mean_2021-04-19  4830 non-null   float64\n",
            " 4   nd_mean_2021-04-22  4830 non-null   float64\n",
            " 5   nd_mean_2021-04-26  4830 non-null   float64\n",
            " 6   nd_mean_2021-04-28  4830 non-null   float64\n",
            " 7   nd_mean_2021-05-02  4830 non-null   float64\n",
            " 8   nd_mean_2021-05-04  4830 non-null   float64\n",
            " 9   nd_mean_2021-05-07  4830 non-null   float64\n",
            " 10  nd_mean_2021-05-16  4830 non-null   float64\n",
            " 11  nd_mean_2021-05-17  4830 non-null   float64\n",
            " 12  nd_mean_2021-05-21  4830 non-null   float64\n",
            " 13  nd_mean_2021-05-26  4830 non-null   float64\n",
            " 14  nd_mean_2021-05-27  4830 non-null   float64\n",
            " 15  nd_mean_2021-05-29  4830 non-null   float64\n",
            " 16  nd_mean_2021-06-06  4830 non-null   float64\n",
            " 17  nd_mean_2021-06-09  4830 non-null   float64\n",
            " 18  nd_mean_2021-06-13  4830 non-null   float64\n",
            " 19  nd_mean_2021-06-16  4830 non-null   float64\n",
            " 20  nd_mean_2021-06-18  4830 non-null   float64\n",
            " 21  nd_mean_2021-06-19  4830 non-null   float64\n",
            " 22  nd_mean_2021-06-20  4830 non-null   float64\n",
            " 23  nd_mean_2021-06-22  4830 non-null   float64\n",
            " 24  nd_mean_2021-06-25  4830 non-null   float64\n",
            " 25  nd_mean_2021-06-27  4830 non-null   float64\n",
            " 26  nd_mean_2021-07-07  4830 non-null   float64\n",
            " 27  nd_mean_2021-07-08  4830 non-null   float64\n",
            " 28  nd_mean_2021-07-09  4830 non-null   float64\n",
            " 29  nd_mean_2021-07-13  4830 non-null   float64\n",
            " 30  nd_mean_2021-07-15  4830 non-null   float64\n",
            " 31  nd_mean_2021-07-17  4830 non-null   float64\n",
            " 32  nd_mean_2021-07-20  4830 non-null   float64\n",
            " 33  nd_mean_2021-07-26  4830 non-null   float64\n",
            " 34  nd_mean_2021-07-27  4830 non-null   float64\n",
            " 35  nd_mean_2021-07-29  4830 non-null   float64\n",
            " 36  nd_mean_2021-07-31  4830 non-null   float64\n",
            " 37  nd_mean_2021-08-07  4830 non-null   float64\n",
            " 38  nd_mean_2021-08-12  4830 non-null   float64\n",
            " 39  .geo                4830 non-null   object \n",
            " 40  nd_mean_2021-04-15  4830 non-null   float64\n",
            " 41  nd_mean_2021-04-18  4830 non-null   float64\n",
            " 42  nd_mean_2021-04-25  4830 non-null   float64\n",
            " 43  nd_mean_2021-04-27  4830 non-null   float64\n",
            " 44  nd_mean_2021-04-29  4830 non-null   float64\n",
            " 45  nd_mean_2021-04-30  4830 non-null   float64\n",
            " 46  nd_mean_2021-06-07  4830 non-null   float64\n",
            " 47  nd_mean_2021-06-12  4830 non-null   float64\n",
            " 48  nd_mean_2021-06-28  4830 non-null   float64\n",
            " 49  nd_mean_2021-08-01  4830 non-null   float64\n",
            " 50  nd_mean_2021-08-11  4830 non-null   float64\n",
            " 51  nd_mean_2021-05-01  4830 non-null   float64\n",
            " 52  nd_mean_2021-05-03  4830 non-null   float64\n",
            " 53  nd_mean_2021-05-10  4830 non-null   float64\n",
            " 54  nd_mean_2021-05-15  4830 non-null   float64\n",
            " 55  nd_mean_2021-06-02  4830 non-null   float64\n",
            " 56  nd_mean_2021-06-03  4830 non-null   float64\n",
            " 57  nd_mean_2021-07-04  4830 non-null   float64\n",
            " 58  nd_mean_2021-08-10  4830 non-null   float64\n",
            " 59  nd_mean_2021-08-23  4830 non-null   float64\n",
            " 60  nd_mean_2021-04-20  4830 non-null   float64\n",
            " 61  nd_mean_2021-04-23  4830 non-null   float64\n",
            " 62  nd_mean_2021-05-09  4830 non-null   float64\n",
            " 63  nd_mean_2021-05-19  4830 non-null   float64\n",
            " 64  nd_mean_2021-05-20  4830 non-null   float64\n",
            " 65  nd_mean_2021-06-04  4830 non-null   float64\n",
            " 66  nd_mean_2021-06-05  4830 non-null   float64\n",
            " 67  nd_mean_2021-06-10  4830 non-null   float64\n",
            " 68  nd_mean_2021-07-05  4830 non-null   float64\n",
            " 69  nd_mean_2021-08-13  4830 non-null   float64\n",
            " 70  nd_mean_2021-08-27  4830 non-null   float64\n",
            " 71  nd_mean_2021-05-08  4830 non-null   float64\n",
            " 72  nd_mean_2021-05-24  4830 non-null   float64\n",
            " 73  crop                4830 non-null   int64  \n",
            "dtypes: float64(70), int64(3), object(1)\n",
            "memory usage: 2.7+ MB\n"
          ]
        }
      ],
      "source": [
        "df.info()"
      ]
    },
    {
      "cell_type": "markdown",
      "metadata": {
        "id": "w6O8PxdL_1GL"
      },
      "source": [
        "В тренировочных данных 78 столбцов и 4898 строк. Шаг дат в столбцах `nd mean YYYY-MM-DD` разный."
      ]
    },
    {
      "cell_type": "markdown",
      "metadata": {
        "id": "_HsnAovC_wGE"
      },
      "source": [
        "## Анализ данных"
      ]
    },
    {
      "cell_type": "code",
      "execution_count": null,
      "metadata": {
        "id": "tyfpTHS3oe5l"
      },
      "outputs": [],
      "source": [
        "# df.loc[:, df.columns != 'crop'] = df.replace(0,np.nan)\n",
        "# df.loc[:, ~df.columns.isin(['id', 'area', 'crop', '.geo'])] = df.loc[:, ~df.columns.isin(['id', 'area', \n",
        "#                                                                                           'crop', '.geo'])].interpolate(method='linear', \n",
        "#                                                                                                                         axis=1, \n",
        "#                                                                                                                         limit_direction='both')"
      ]
    },
    {
      "cell_type": "markdown",
      "metadata": {
        "id": "WmlVnemit0Y1"
      },
      "source": [
        "Изучим столбец `area`."
      ]
    },
    {
      "cell_type": "code",
      "execution_count": null,
      "metadata": {
        "colab": {
          "base_uri": "https://localhost:8080/",
          "height": 606
        },
        "id": "TepkrSHNwd5h",
        "outputId": "bddff137-0241-484c-d2e7-e7f17162ec3a"
      },
      "outputs": [
        {
          "output_type": "display_data",
          "data": {
            "text/plain": [
              "<Figure size 1080x720 with 2 Axes>"
            ],
            "image/png": "[encoded data removed]"
          },
          "metadata": {
            "needs_background": "light"
          }
        }
      ],
      "source": [
        "f, (ax_hist, ax_box) = plt.subplots(2, figsize=(15, 10), sharex=True, gridspec_kw={\"height_ratios\": (.85, .15)})\n",
        "\n",
        "sns.histplot(data=df, x=\"area\", kde=True, ax=ax_hist)\n",
        "sns.boxplot(df['area'], ax=ax_box)\n",
        "\n",
        "plt.show()"
      ]
    },
    {
      "cell_type": "markdown",
      "metadata": {
        "id": "Lz4Rs8TLzu9q"
      },
      "source": [
        "Площадь поля распределена от 10 до 140 га, при этом большинство полей (75%) имеют площадь до 77 га. Посмотрим на площадьв  зависимости от типа культур.\n"
      ]
    },
    {
      "cell_type": "code",
      "execution_count": null,
      "metadata": {
        "colab": {
          "base_uri": "https://localhost:8080/",
          "height": 300
        },
        "id": "UHHEMbaACdqh",
        "outputId": "6d6af357-dd7a-41f5-d398-9a39619b8ef5"
      },
      "outputs": [
        {
          "output_type": "execute_result",
          "data": {
            "text/plain": [
              "           mean    sum\n",
              "crop                  \n",
              "0     58.318182  42339\n",
              "1     38.821429  27175\n",
              "2     53.928264  37588\n",
              "3     54.618321  35775\n",
              "4     49.576602  35596\n",
              "5     56.079341  37461\n",
              "6     66.463964  44265"
            ],
            "text/html": [
              "\n",
              "  <div id=\"df-7d39a35b-c4e6-4e36-9837-3ed193487bee\">\n",
              "    <div class=\"colab-df-container\">\n",
              "      <div>\n",
              "<style scoped>\n",
              "    .dataframe tbody tr th:only-of-type {\n",
              "        vertical-align: middle;\n",
              "    }\n",
              "\n",
              "    .dataframe tbody tr th {\n",
              "        vertical-align: top;\n",
              "    }\n",
              "\n",
              "    .dataframe thead th {\n",
              "        text-align: right;\n",
              "    }\n",
              "</style>\n",
              "<table border=\"1\" class=\"dataframe\">\n",
              "  <thead>\n",
              "    <tr style=\"text-align: right;\">\n",
              "      <th></th>\n",
              "      <th>mean</th>\n",
              "      <th>sum</th>\n",
              "    </tr>\n",
              "    <tr>\n",
              "      <th>crop</th>\n",
              "      <th></th>\n",
              "      <th></th>\n",
              "    </tr>\n",
              "  </thead>\n",
              "  <tbody>\n",
              "    <tr>\n",
              "      <th>0</th>\n",
              "      <td>58.318182</td>\n",
              "      <td>42339</td>\n",
              "    </tr>\n",
              "    <tr>\n",
              "      <th>1</th>\n",
              "      <td>38.821429</td>\n",
              "      <td>27175</td>\n",
              "    </tr>\n",
              "    <tr>\n",
              "      <th>2</th>\n",
              "      <td>53.928264</td>\n",
              "      <td>37588</td>\n",
              "    </tr>\n",
              "    <tr>\n",
              "      <th>3</th>\n",
              "      <td>54.618321</td>\n",
              "      <td>35775</td>\n",
              "    </tr>\n",
              "    <tr>\n",
              "      <th>4</th>\n",
              "      <td>49.576602</td>\n",
              "      <td>35596</td>\n",
              "    </tr>\n",
              "    <tr>\n",
              "      <th>5</th>\n",
              "      <td>56.079341</td>\n",
              "      <td>37461</td>\n",
              "    </tr>\n",
              "    <tr>\n",
              "      <th>6</th>\n",
              "      <td>66.463964</td>\n",
              "      <td>44265</td>\n",
              "    </tr>\n",
              "  </tbody>\n",
              "</table>\n",
              "</div>\n",
              "      <button class=\"colab-df-convert\" onclick=\"convertToInteractive('df-7d39a35b-c4e6-4e36-9837-3ed193487bee')\"\n",
              "              title=\"Convert this dataframe to an interactive table.\"\n",
              "              style=\"display:none;\">\n",
              "        \n",
              "  <svg xmlns=\"http://www.w3.org/2000/svg\" height=\"24px\"viewBox=\"0 0 24 24\"\n",
              "       width=\"24px\">\n",
              "    <path d=\"M0 0h24v24H0V0z\" fill=\"none\"/>\n",
              "    <path d=\"M18.56 5.44l.94 2.06.94-2.06 2.06-.94-2.06-.94-.94-2.06-.94 2.06-2.06.94zm-11 1L8.5 8.5l.94-2.06 2.06-.94-2.06-.94L8.5 2.5l-.94 2.06-2.06.94zm10 10l.94 2.06.94-2.06 2.06-.94-2.06-.94-.94-2.06-.94 2.06-2.06.94z\"/><path d=\"M17.41 7.96l-1.37-1.37c-.4-.4-.92-.59-1.43-.59-.52 0-1.04.2-1.43.59L10.3 9.45l-7.72 7.72c-.78.78-.78 2.05 0 2.83L4 21.41c.39.39.9.59 1.41.59.51 0 1.02-.2 1.41-.59l7.78-7.78 2.81-2.81c.8-.78.8-2.07 0-2.86zM5.41 20L4 18.59l7.72-7.72 1.47 1.35L5.41 20z\"/>\n",
              "  </svg>\n",
              "      </button>\n",
              "      \n",
              "  <style>\n",
              "    .colab-df-container {\n",
              "      display:flex;\n",
              "      flex-wrap:wrap;\n",
              "      gap: 12px;\n",
              "    }\n",
              "\n",
              "    .colab-df-convert {\n",
              "      background-color: #E8F0FE;\n",
              "      border: none;\n",
              "      border-radius: 50%;\n",
              "      cursor: pointer;\n",
              "      display: none;\n",
              "      fill: #1967D2;\n",
              "      height: 32px;\n",
              "      padding: 0 0 0 0;\n",
              "      width: 32px;\n",
              "    }\n",
              "\n",
              "    .colab-df-convert:hover {\n",
              "      background-color: #E2EBFA;\n",
              "      box-shadow: 0px 1px 2px rgba(60, 64, 67, 0.3), 0px 1px 3px 1px rgba(60, 64, 67, 0.15);\n",
              "      fill: #174EA6;\n",
              "    }\n",
              "\n",
              "    [theme=dark] .colab-df-convert {\n",
              "      background-color: #3B4455;\n",
              "      fill: #D2E3FC;\n",
              "    }\n",
              "\n",
              "    [theme=dark] .colab-df-convert:hover {\n",
              "      background-color: #434B5C;\n",
              "      box-shadow: 0px 1px 3px 1px rgba(0, 0, 0, 0.15);\n",
              "      filter: drop-shadow(0px 1px 2px rgba(0, 0, 0, 0.3));\n",
              "      fill: #FFFFFF;\n",
              "    }\n",
              "  </style>\n",
              "\n",
              "      <script>\n",
              "        const buttonEl =\n",
              "          document.querySelector('#df-7d39a35b-c4e6-4e36-9837-3ed193487bee button.colab-df-convert');\n",
              "        buttonEl.style.display =\n",
              "          google.colab.kernel.accessAllowed ? 'block' : 'none';\n",
              "\n",
              "        async function convertToInteractive(key) {\n",
              "          const element = document.querySelector('#df-7d39a35b-c4e6-4e36-9837-3ed193487bee');\n",
              "          const dataTable =\n",
              "            await google.colab.kernel.invokeFunction('convertToInteractive',\n",
              "                                                     [key], {});\n",
              "          if (!dataTable) return;\n",
              "\n",
              "          const docLinkHtml = 'Like what you see? Visit the ' +\n",
              "            '<a target=\"_blank\" href=https://colab.research.google.com/notebooks/data_table.ipynb>data table notebook</a>'\n",
              "            + ' to learn more about interactive tables.';\n",
              "          element.innerHTML = '';\n",
              "          dataTable['output_type'] = 'display_data';\n",
              "          await google.colab.output.renderOutput(dataTable, element);\n",
              "          const docLink = document.createElement('div');\n",
              "          docLink.innerHTML = docLinkHtml;\n",
              "          element.appendChild(docLink);\n",
              "        }\n",
              "      </script>\n",
              "    </div>\n",
              "  </div>\n",
              "  "
            ]
          },
          "metadata": {},
          "execution_count": 8
        }
      ],
      "source": [
        "df.groupby('crop')['area'].agg(['mean', 'sum'])"
      ]
    },
    {
      "cell_type": "markdown",
      "metadata": {
        "id": "z9t-2GwBDhQO"
      },
      "source": [
        "Как видим, меньше всего площажи зпнимает культура 1, больше всего - 6, остальные культуры распределены примерно поровну."
      ]
    },
    {
      "cell_type": "markdown",
      "metadata": {
        "id": "kOBt5jzz0Pfx"
      },
      "source": [
        "Изучим столбец `crop`."
      ]
    },
    {
      "cell_type": "code",
      "execution_count": null,
      "metadata": {
        "colab": {
          "base_uri": "https://localhost:8080/"
        },
        "id": "c0CtsSwBxYjY",
        "outputId": "bb996b4b-81d4-4fec-cb6c-4a561c42aa99"
      },
      "outputs": [
        {
          "output_type": "execute_result",
          "data": {
            "text/plain": [
              "0    0.150311\n",
              "4    0.148654\n",
              "1    0.144928\n",
              "2    0.144306\n",
              "5    0.138302\n",
              "6    0.137888\n",
              "3    0.135611\n",
              "Name: crop, dtype: float64"
            ]
          },
          "metadata": {},
          "execution_count": 9
        }
      ],
      "source": [
        "df['crop'].value_counts(normalize=True)"
      ]
    },
    {
      "cell_type": "code",
      "execution_count": null,
      "metadata": {
        "colab": {
          "base_uri": "https://localhost:8080/",
          "height": 297
        },
        "id": "cMK8iaFi0sRo",
        "outputId": "2a6e3183-5cc8-4843-fcf1-2e0a5f48a192"
      },
      "outputs": [
        {
          "output_type": "execute_result",
          "data": {
            "text/plain": [
              "<matplotlib.axes._subplots.AxesSubplot at 0x7f8c56ae9bd0>"
            ]
          },
          "metadata": {},
          "execution_count": 10
        },
        {
          "output_type": "display_data",
          "data": {
            "text/plain": [
              "<Figure size 432x288 with 1 Axes>"
            ],
            "image/png": "[encoded data removed]"
          },
          "metadata": {
            "needs_background": "light"
          }
        }
      ],
      "source": [
        "sns.histplot(data=df, x=\"crop\", kde=True)"
      ]
    },
    {
      "cell_type": "markdown",
      "metadata": {
        "id": "aGGsj2Xb0htq"
      },
      "source": [
        "Как можем заметить, тип культур в представленных данных сбалансирован."
      ]
    },
    {
      "cell_type": "markdown",
      "metadata": {
        "id": "H2c36xnT07p6"
      },
      "source": [
        "Изучим столбец `.geo`."
      ]
    },
    {
      "cell_type": "code",
      "execution_count": null,
      "metadata": {
        "colab": {
          "base_uri": "https://localhost:8080/"
        },
        "id": "VKMFf8XE0aRc",
        "outputId": "0742f65c-a16f-4bce-ee99-69532715145b"
      },
      "outputs": [
        {
          "output_type": "execute_result",
          "data": {
            "text/plain": [
              "0    {\"type\":\"Polygon\",\"coordinates\":[[[42.49107269...\n",
              "1    {\"type\":\"Polygon\",\"coordinates\":[[[50.25545110...\n",
              "2    {\"type\":\"Polygon\",\"coordinates\":[[[37.99698998...\n",
              "3    {\"type\":\"Polygon\",\"coordinates\":[[[44.72154181...\n",
              "4    {\"type\":\"Polygon\",\"coordinates\":[[[34.77829934...\n",
              "Name: .geo, dtype: object"
            ]
          },
          "metadata": {},
          "execution_count": 11
        }
      ],
      "source": [
        "df['.geo'].head()"
      ]
    },
    {
      "cell_type": "markdown",
      "metadata": {
        "id": "YrIrEne21E_f"
      },
      "source": [
        "Данный столбец содержит координаты посевных полей. Данные представлены в Plygon, Multipolygon и GeometryCollection. Данные форматы содержат координаты, описывающие периметр поля. Выделим первые координаты широты и долготы в отдельные столбцы."
      ]
    },
    {
      "cell_type": "code",
      "execution_count": null,
      "metadata": {
        "id": "61qhxgabuqNr"
      },
      "outputs": [],
      "source": [
        "df['longitude'] = df['.geo'].str.findall('(\\d+\\.\\d+)').str[0].astype(float)\n",
        "df['latitude'] = df['.geo'].str.findall('(\\d+\\.\\d+)').str[1].astype(float)"
      ]
    },
    {
      "cell_type": "code",
      "execution_count": null,
      "metadata": {
        "colab": {
          "base_uri": "https://localhost:8080/",
          "height": 317
        },
        "id": "dcrJJIRVvXPq",
        "outputId": "f9ecf4d8-ec2d-431a-a83f-cbf557e93525"
      },
      "outputs": [
        {
          "output_type": "execute_result",
          "data": {
            "text/plain": [
              "     id  area  nd_mean_2021-04-16  nd_mean_2021-04-19  nd_mean_2021-04-22  \\\n",
              "0  3536    20            0.072846            0.261778            0.062981   \n",
              "1  3739    45            0.332928            0.287182            0.097138   \n",
              "2  1294    28            0.013679            0.007055            0.120804   \n",
              "3  2859    19            0.105976            0.052500            0.001917   \n",
              "4  3685    33            0.130885            0.063492            0.024416   \n",
              "\n",
              "   nd_mean_2021-04-26  nd_mean_2021-04-28  nd_mean_2021-05-02  \\\n",
              "0            0.104442            0.021096            0.052202   \n",
              "1            0.152467            0.075484            0.000000   \n",
              "2            0.037839            0.259125            0.000000   \n",
              "3            0.011531            0.042316            0.000000   \n",
              "4            0.000000            0.150671            0.046717   \n",
              "\n",
              "   nd_mean_2021-05-04  nd_mean_2021-05-07  ...  nd_mean_2021-06-05  \\\n",
              "0            0.158723            0.000000  ...            0.000000   \n",
              "1            0.140326            0.163340  ...            0.000000   \n",
              "2            0.037446            0.506516  ...            0.210496   \n",
              "3            0.000000            0.043604  ...            0.132886   \n",
              "4            0.254284            0.101479  ...            0.152003   \n",
              "\n",
              "   nd_mean_2021-06-10  nd_mean_2021-07-05  nd_mean_2021-08-13  \\\n",
              "0            0.000000            0.026784            0.126832   \n",
              "1            0.000000            0.111148            0.174914   \n",
              "2            0.130467            0.155225            0.090607   \n",
              "3            0.000000            0.570928            0.073492   \n",
              "4            0.073357            0.147842            0.157676   \n",
              "\n",
              "   nd_mean_2021-08-27  nd_mean_2021-05-08  nd_mean_2021-05-24  crop  \\\n",
              "0            0.614770            0.008857            0.081498     3   \n",
              "1            0.179612            0.113071            0.046997     4   \n",
              "2            0.054127            0.007437            0.219614     2   \n",
              "3            0.378900            0.327677            0.586523     5   \n",
              "4            0.012048            0.054223            0.017539     4   \n",
              "\n",
              "   longitude   latitude  \n",
              "0  42.491073  51.414036  \n",
              "1  50.255451  56.605392  \n",
              "2  37.996990  53.835904  \n",
              "3  44.721542  55.935339  \n",
              "4  34.778299  52.907201  \n",
              "\n",
              "[5 rows x 76 columns]"
            ],
            "text/html": [
              "\n",
              "  <div id=\"df-753ec031-f639-4b49-a126-5dbb0d3f9608\">\n",
              "    <div class=\"colab-df-container\">\n",
              "      <div>\n",
              "<style scoped>\n",
              "    .dataframe tbody tr th:only-of-type {\n",
              "        vertical-align: middle;\n",
              "    }\n",
              "\n",
              "    .dataframe tbody tr th {\n",
              "        vertical-align: top;\n",
              "    }\n",
              "\n",
              "    .dataframe thead th {\n",
              "        text-align: right;\n",
              "    }\n",
              "</style>\n",
              "<table border=\"1\" class=\"dataframe\">\n",
              "  <thead>\n",
              "    <tr style=\"text-align: right;\">\n",
              "      <th></th>\n",
              "      <th>id</th>\n",
              "      <th>area</th>\n",
              "      <th>nd_mean_2021-04-16</th>\n",
              "      <th>nd_mean_2021-04-19</th>\n",
              "      <th>nd_mean_2021-04-22</th>\n",
              "      <th>nd_mean_2021-04-26</th>\n",
              "      <th>nd_mean_2021-04-28</th>\n",
              "      <th>nd_mean_2021-05-02</th>\n",
              "      <th>nd_mean_2021-05-04</th>\n",
              "      <th>nd_mean_2021-05-07</th>\n",
              "      <th>...</th>\n",
              "      <th>nd_mean_2021-06-05</th>\n",
              "      <th>nd_mean_2021-06-10</th>\n",
              "      <th>nd_mean_2021-07-05</th>\n",
              "      <th>nd_mean_2021-08-13</th>\n",
              "      <th>nd_mean_2021-08-27</th>\n",
              "      <th>nd_mean_2021-05-08</th>\n",
              "      <th>nd_mean_2021-05-24</th>\n",
              "      <th>crop</th>\n",
              "      <th>longitude</th>\n",
              "      <th>latitude</th>\n",
              "    </tr>\n",
              "  </thead>\n",
              "  <tbody>\n",
              "    <tr>\n",
              "      <th>0</th>\n",
              "      <td>3536</td>\n",
              "      <td>20</td>\n",
              "      <td>0.072846</td>\n",
              "      <td>0.261778</td>\n",
              "      <td>0.062981</td>\n",
              "      <td>0.104442</td>\n",
              "      <td>0.021096</td>\n",
              "      <td>0.052202</td>\n",
              "      <td>0.158723</td>\n",
              "      <td>0.000000</td>\n",
              "      <td>...</td>\n",
              "      <td>0.000000</td>\n",
              "      <td>0.000000</td>\n",
              "      <td>0.026784</td>\n",
              "      <td>0.126832</td>\n",
              "      <td>0.614770</td>\n",
              "      <td>0.008857</td>\n",
              "      <td>0.081498</td>\n",
              "      <td>3</td>\n",
              "      <td>42.491073</td>\n",
              "      <td>51.414036</td>\n",
              "    </tr>\n",
              "    <tr>\n",
              "      <th>1</th>\n",
              "      <td>3739</td>\n",
              "      <td>45</td>\n",
              "      <td>0.332928</td>\n",
              "      <td>0.287182</td>\n",
              "      <td>0.097138</td>\n",
              "      <td>0.152467</td>\n",
              "      <td>0.075484</td>\n",
              "      <td>0.000000</td>\n",
              "      <td>0.140326</td>\n",
              "      <td>0.163340</td>\n",
              "      <td>...</td>\n",
              "      <td>0.000000</td>\n",
              "      <td>0.000000</td>\n",
              "      <td>0.111148</td>\n",
              "      <td>0.174914</td>\n",
              "      <td>0.179612</td>\n",
              "      <td>0.113071</td>\n",
              "      <td>0.046997</td>\n",
              "      <td>4</td>\n",
              "      <td>50.255451</td>\n",
              "      <td>56.605392</td>\n",
              "    </tr>\n",
              "    <tr>\n",
              "      <th>2</th>\n",
              "      <td>1294</td>\n",
              "      <td>28</td>\n",
              "      <td>0.013679</td>\n",
              "      <td>0.007055</td>\n",
              "      <td>0.120804</td>\n",
              "      <td>0.037839</td>\n",
              "      <td>0.259125</td>\n",
              "      <td>0.000000</td>\n",
              "      <td>0.037446</td>\n",
              "      <td>0.506516</td>\n",
              "      <td>...</td>\n",
              "      <td>0.210496</td>\n",
              "      <td>0.130467</td>\n",
              "      <td>0.155225</td>\n",
              "      <td>0.090607</td>\n",
              "      <td>0.054127</td>\n",
              "      <td>0.007437</td>\n",
              "      <td>0.219614</td>\n",
              "      <td>2</td>\n",
              "      <td>37.996990</td>\n",
              "      <td>53.835904</td>\n",
              "    </tr>\n",
              "    <tr>\n",
              "      <th>3</th>\n",
              "      <td>2859</td>\n",
              "      <td>19</td>\n",
              "      <td>0.105976</td>\n",
              "      <td>0.052500</td>\n",
              "      <td>0.001917</td>\n",
              "      <td>0.011531</td>\n",
              "      <td>0.042316</td>\n",
              "      <td>0.000000</td>\n",
              "      <td>0.000000</td>\n",
              "      <td>0.043604</td>\n",
              "      <td>...</td>\n",
              "      <td>0.132886</td>\n",
              "      <td>0.000000</td>\n",
              "      <td>0.570928</td>\n",
              "      <td>0.073492</td>\n",
              "      <td>0.378900</td>\n",
              "      <td>0.327677</td>\n",
              "      <td>0.586523</td>\n",
              "      <td>5</td>\n",
              "      <td>44.721542</td>\n",
              "      <td>55.935339</td>\n",
              "    </tr>\n",
              "    <tr>\n",
              "      <th>4</th>\n",
              "      <td>3685</td>\n",
              "      <td>33</td>\n",
              "      <td>0.130885</td>\n",
              "      <td>0.063492</td>\n",
              "      <td>0.024416</td>\n",
              "      <td>0.000000</td>\n",
              "      <td>0.150671</td>\n",
              "      <td>0.046717</td>\n",
              "      <td>0.254284</td>\n",
              "      <td>0.101479</td>\n",
              "      <td>...</td>\n",
              "      <td>0.152003</td>\n",
              "      <td>0.073357</td>\n",
              "      <td>0.147842</td>\n",
              "      <td>0.157676</td>\n",
              "      <td>0.012048</td>\n",
              "      <td>0.054223</td>\n",
              "      <td>0.017539</td>\n",
              "      <td>4</td>\n",
              "      <td>34.778299</td>\n",
              "      <td>52.907201</td>\n",
              "    </tr>\n",
              "  </tbody>\n",
              "</table>\n",
              "<p>5 rows × 76 columns</p>\n",
              "</div>\n",
              "      <button class=\"colab-df-convert\" onclick=\"convertToInteractive('df-753ec031-f639-4b49-a126-5dbb0d3f9608')\"\n",
              "              title=\"Convert this dataframe to an interactive table.\"\n",
              "              style=\"display:none;\">\n",
              "        \n",
              "  <svg xmlns=\"http://www.w3.org/2000/svg\" height=\"24px\"viewBox=\"0 0 24 24\"\n",
              "       width=\"24px\">\n",
              "    <path d=\"M0 0h24v24H0V0z\" fill=\"none\"/>\n",
              "    <path d=\"M18.56 5.44l.94 2.06.94-2.06 2.06-.94-2.06-.94-.94-2.06-.94 2.06-2.06.94zm-11 1L8.5 8.5l.94-2.06 2.06-.94-2.06-.94L8.5 2.5l-.94 2.06-2.06.94zm10 10l.94 2.06.94-2.06 2.06-.94-2.06-.94-.94-2.06-.94 2.06-2.06.94z\"/><path d=\"M17.41 7.96l-1.37-1.37c-.4-.4-.92-.59-1.43-.59-.52 0-1.04.2-1.43.59L10.3 9.45l-7.72 7.72c-.78.78-.78 2.05 0 2.83L4 21.41c.39.39.9.59 1.41.59.51 0 1.02-.2 1.41-.59l7.78-7.78 2.81-2.81c.8-.78.8-2.07 0-2.86zM5.41 20L4 18.59l7.72-7.72 1.47 1.35L5.41 20z\"/>\n",
              "  </svg>\n",
              "      </button>\n",
              "      \n",
              "  <style>\n",
              "    .colab-df-container {\n",
              "      display:flex;\n",
              "      flex-wrap:wrap;\n",
              "      gap: 12px;\n",
              "    }\n",
              "\n",
              "    .colab-df-convert {\n",
              "      background-color: #E8F0FE;\n",
              "      border: none;\n",
              "      border-radius: 50%;\n",
              "      cursor: pointer;\n",
              "      display: none;\n",
              "      fill: #1967D2;\n",
              "      height: 32px;\n",
              "      padding: 0 0 0 0;\n",
              "      width: 32px;\n",
              "    }\n",
              "\n",
              "    .colab-df-convert:hover {\n",
              "      background-color: #E2EBFA;\n",
              "      box-shadow: 0px 1px 2px rgba(60, 64, 67, 0.3), 0px 1px 3px 1px rgba(60, 64, 67, 0.15);\n",
              "      fill: #174EA6;\n",
              "    }\n",
              "\n",
              "    [theme=dark] .colab-df-convert {\n",
              "      background-color: #3B4455;\n",
              "      fill: #D2E3FC;\n",
              "    }\n",
              "\n",
              "    [theme=dark] .colab-df-convert:hover {\n",
              "      background-color: #434B5C;\n",
              "      box-shadow: 0px 1px 3px 1px rgba(0, 0, 0, 0.15);\n",
              "      filter: drop-shadow(0px 1px 2px rgba(0, 0, 0, 0.3));\n",
              "      fill: #FFFFFF;\n",
              "    }\n",
              "  </style>\n",
              "\n",
              "      <script>\n",
              "        const buttonEl =\n",
              "          document.querySelector('#df-753ec031-f639-4b49-a126-5dbb0d3f9608 button.colab-df-convert');\n",
              "        buttonEl.style.display =\n",
              "          google.colab.kernel.accessAllowed ? 'block' : 'none';\n",
              "\n",
              "        async function convertToInteractive(key) {\n",
              "          const element = document.querySelector('#df-753ec031-f639-4b49-a126-5dbb0d3f9608');\n",
              "          const dataTable =\n",
              "            await google.colab.kernel.invokeFunction('convertToInteractive',\n",
              "                                                     [key], {});\n",
              "          if (!dataTable) return;\n",
              "\n",
              "          const docLinkHtml = 'Like what you see? Visit the ' +\n",
              "            '<a target=\"_blank\" href=https://colab.research.google.com/notebooks/data_table.ipynb>data table notebook</a>'\n",
              "            + ' to learn more about interactive tables.';\n",
              "          element.innerHTML = '';\n",
              "          dataTable['output_type'] = 'display_data';\n",
              "          await google.colab.output.renderOutput(dataTable, element);\n",
              "          const docLink = document.createElement('div');\n",
              "          docLink.innerHTML = docLinkHtml;\n",
              "          element.appendChild(docLink);\n",
              "        }\n",
              "      </script>\n",
              "    </div>\n",
              "  </div>\n",
              "  "
            ]
          },
          "metadata": {},
          "execution_count": 13
        }
      ],
      "source": [
        "df.head()"
      ]
    },
    {
      "cell_type": "code",
      "execution_count": null,
      "metadata": {
        "colab": {
          "base_uri": "https://localhost:8080/",
          "height": 300
        },
        "id": "vgHxamQsQYVB",
        "outputId": "d9ca2a98-9def-491b-f18f-402c25a7b510"
      },
      "outputs": [
        {
          "output_type": "execute_result",
          "data": {
            "text/plain": [
              "      longitude   latitude\n",
              "crop                      \n",
              "0     44.217727  52.304382\n",
              "1     40.046256  54.016130\n",
              "2     41.430098  53.099794\n",
              "3     45.818809  53.701410\n",
              "4     40.136284  52.607075\n",
              "5     49.557337  54.779114\n",
              "6     44.287841  52.945228"
            ],
            "text/html": [
              "\n",
              "  <div id=\"df-57c624ae-842f-4e5c-8a8a-3442629449b4\">\n",
              "    <div class=\"colab-df-container\">\n",
              "      <div>\n",
              "<style scoped>\n",
              "    .dataframe tbody tr th:only-of-type {\n",
              "        vertical-align: middle;\n",
              "    }\n",
              "\n",
              "    .dataframe tbody tr th {\n",
              "        vertical-align: top;\n",
              "    }\n",
              "\n",
              "    .dataframe thead th {\n",
              "        text-align: right;\n",
              "    }\n",
              "</style>\n",
              "<table border=\"1\" class=\"dataframe\">\n",
              "  <thead>\n",
              "    <tr style=\"text-align: right;\">\n",
              "      <th></th>\n",
              "      <th>longitude</th>\n",
              "      <th>latitude</th>\n",
              "    </tr>\n",
              "    <tr>\n",
              "      <th>crop</th>\n",
              "      <th></th>\n",
              "      <th></th>\n",
              "    </tr>\n",
              "  </thead>\n",
              "  <tbody>\n",
              "    <tr>\n",
              "      <th>0</th>\n",
              "      <td>44.217727</td>\n",
              "      <td>52.304382</td>\n",
              "    </tr>\n",
              "    <tr>\n",
              "      <th>1</th>\n",
              "      <td>40.046256</td>\n",
              "      <td>54.016130</td>\n",
              "    </tr>\n",
              "    <tr>\n",
              "      <th>2</th>\n",
              "      <td>41.430098</td>\n",
              "      <td>53.099794</td>\n",
              "    </tr>\n",
              "    <tr>\n",
              "      <th>3</th>\n",
              "      <td>45.818809</td>\n",
              "      <td>53.701410</td>\n",
              "    </tr>\n",
              "    <tr>\n",
              "      <th>4</th>\n",
              "      <td>40.136284</td>\n",
              "      <td>52.607075</td>\n",
              "    </tr>\n",
              "    <tr>\n",
              "      <th>5</th>\n",
              "      <td>49.557337</td>\n",
              "      <td>54.779114</td>\n",
              "    </tr>\n",
              "    <tr>\n",
              "      <th>6</th>\n",
              "      <td>44.287841</td>\n",
              "      <td>52.945228</td>\n",
              "    </tr>\n",
              "  </tbody>\n",
              "</table>\n",
              "</div>\n",
              "      <button class=\"colab-df-convert\" onclick=\"convertToInteractive('df-57c624ae-842f-4e5c-8a8a-3442629449b4')\"\n",
              "              title=\"Convert this dataframe to an interactive table.\"\n",
              "              style=\"display:none;\">\n",
              "        \n",
              "  <svg xmlns=\"http://www.w3.org/2000/svg\" height=\"24px\"viewBox=\"0 0 24 24\"\n",
              "       width=\"24px\">\n",
              "    <path d=\"M0 0h24v24H0V0z\" fill=\"none\"/>\n",
              "    <path d=\"M18.56 5.44l.94 2.06.94-2.06 2.06-.94-2.06-.94-.94-2.06-.94 2.06-2.06.94zm-11 1L8.5 8.5l.94-2.06 2.06-.94-2.06-.94L8.5 2.5l-.94 2.06-2.06.94zm10 10l.94 2.06.94-2.06 2.06-.94-2.06-.94-.94-2.06-.94 2.06-2.06.94z\"/><path d=\"M17.41 7.96l-1.37-1.37c-.4-.4-.92-.59-1.43-.59-.52 0-1.04.2-1.43.59L10.3 9.45l-7.72 7.72c-.78.78-.78 2.05 0 2.83L4 21.41c.39.39.9.59 1.41.59.51 0 1.02-.2 1.41-.59l7.78-7.78 2.81-2.81c.8-.78.8-2.07 0-2.86zM5.41 20L4 18.59l7.72-7.72 1.47 1.35L5.41 20z\"/>\n",
              "  </svg>\n",
              "      </button>\n",
              "      \n",
              "  <style>\n",
              "    .colab-df-container {\n",
              "      display:flex;\n",
              "      flex-wrap:wrap;\n",
              "      gap: 12px;\n",
              "    }\n",
              "\n",
              "    .colab-df-convert {\n",
              "      background-color: #E8F0FE;\n",
              "      border: none;\n",
              "      border-radius: 50%;\n",
              "      cursor: pointer;\n",
              "      display: none;\n",
              "      fill: #1967D2;\n",
              "      height: 32px;\n",
              "      padding: 0 0 0 0;\n",
              "      width: 32px;\n",
              "    }\n",
              "\n",
              "    .colab-df-convert:hover {\n",
              "      background-color: #E2EBFA;\n",
              "      box-shadow: 0px 1px 2px rgba(60, 64, 67, 0.3), 0px 1px 3px 1px rgba(60, 64, 67, 0.15);\n",
              "      fill: #174EA6;\n",
              "    }\n",
              "\n",
              "    [theme=dark] .colab-df-convert {\n",
              "      background-color: #3B4455;\n",
              "      fill: #D2E3FC;\n",
              "    }\n",
              "\n",
              "    [theme=dark] .colab-df-convert:hover {\n",
              "      background-color: #434B5C;\n",
              "      box-shadow: 0px 1px 3px 1px rgba(0, 0, 0, 0.15);\n",
              "      filter: drop-shadow(0px 1px 2px rgba(0, 0, 0, 0.3));\n",
              "      fill: #FFFFFF;\n",
              "    }\n",
              "  </style>\n",
              "\n",
              "      <script>\n",
              "        const buttonEl =\n",
              "          document.querySelector('#df-57c624ae-842f-4e5c-8a8a-3442629449b4 button.colab-df-convert');\n",
              "        buttonEl.style.display =\n",
              "          google.colab.kernel.accessAllowed ? 'block' : 'none';\n",
              "\n",
              "        async function convertToInteractive(key) {\n",
              "          const element = document.querySelector('#df-57c624ae-842f-4e5c-8a8a-3442629449b4');\n",
              "          const dataTable =\n",
              "            await google.colab.kernel.invokeFunction('convertToInteractive',\n",
              "                                                     [key], {});\n",
              "          if (!dataTable) return;\n",
              "\n",
              "          const docLinkHtml = 'Like what you see? Visit the ' +\n",
              "            '<a target=\"_blank\" href=https://colab.research.google.com/notebooks/data_table.ipynb>data table notebook</a>'\n",
              "            + ' to learn more about interactive tables.';\n",
              "          element.innerHTML = '';\n",
              "          dataTable['output_type'] = 'display_data';\n",
              "          await google.colab.output.renderOutput(dataTable, element);\n",
              "          const docLink = document.createElement('div');\n",
              "          docLink.innerHTML = docLinkHtml;\n",
              "          element.appendChild(docLink);\n",
              "        }\n",
              "      </script>\n",
              "    </div>\n",
              "  </div>\n",
              "  "
            ]
          },
          "metadata": {},
          "execution_count": 14
        }
      ],
      "source": [
        "df.groupby('crop')[['longitude', 'latitude']].mean()"
      ]
    },
    {
      "cell_type": "markdown",
      "metadata": {
        "id": "5Inhh1089sV8"
      },
      "source": [
        "Проверим признаки на мультиколлинеарность."
      ]
    },
    {
      "cell_type": "code",
      "execution_count": null,
      "metadata": {
        "colab": {
          "base_uri": "https://localhost:8080/"
        },
        "id": "7QZVlegGFFDr",
        "outputId": "5782e4ce-5785-4c36-e905-3c40d58beb74"
      },
      "outputs": [
        {
          "output_type": "execute_result",
          "data": {
            "text/plain": [
              "nd_mean_2021-06-06  nd_mean_2021-04-20    0.602454\n",
              "                    nd_mean_2021-05-19    0.665534\n",
              "                    nd_mean_2021-05-20    0.660957\n",
              "                    nd_mean_2021-08-27    0.604031\n",
              "nd_mean_2021-04-20  nd_mean_2021-06-06    0.602454\n",
              "                    nd_mean_2021-05-19    0.629367\n",
              "                    nd_mean_2021-05-20    0.637393\n",
              "nd_mean_2021-05-19  nd_mean_2021-06-06    0.665534\n",
              "                    nd_mean_2021-04-20    0.629367\n",
              "                    nd_mean_2021-05-20    0.708838\n",
              "                    nd_mean_2021-08-27    0.718053\n",
              "nd_mean_2021-05-20  nd_mean_2021-06-06    0.660957\n",
              "                    nd_mean_2021-04-20    0.637393\n",
              "                    nd_mean_2021-05-19    0.708838\n",
              "                    nd_mean_2021-08-27    0.663753\n",
              "nd_mean_2021-08-27  nd_mean_2021-06-06    0.604031\n",
              "                    nd_mean_2021-05-19    0.718053\n",
              "                    nd_mean_2021-05-20    0.663753\n",
              "dtype: float64"
            ]
          },
          "metadata": {},
          "execution_count": 15
        }
      ],
      "source": [
        "matrix = df.corr().unstack()\n",
        "matrix = matrix[abs(matrix) >= 0.6]\n",
        "matrix = matrix[abs(matrix) != 1]\n",
        "matrix"
      ]
    },
    {
      "cell_type": "markdown",
      "metadata": {
        "id": "hHHlIFHpyS2R"
      },
      "source": [
        "### Выделение дополнительных признаков"
      ]
    },
    {
      "cell_type": "markdown",
      "metadata": {
        "id": "FjbHEiB-ycsf"
      },
      "source": [
        "Выделим средний индекс NDVI для каждого месяца"
      ]
    },
    {
      "cell_type": "code",
      "execution_count": null,
      "metadata": {
        "id": "PW6JhUvYyXCX"
      },
      "outputs": [],
      "source": [
        "april = [col for col in df.columns if '2021-04' in col]\n",
        "may = [col for col in df.columns if '2021-05' in col]\n",
        "june = [col for col in df.columns if '2021-06' in col]\n",
        "july = [col for col in df.columns if '2021-07' in col]\n",
        "august = [col for col in df.columns if '2021-08' in col]\n",
        "\n",
        "\n",
        "df['april'] = df[april].mean(axis=1)\n",
        "df['may'] = df[may].mean(axis=1)\n",
        "df['june'] = df[june].mean(axis=1)\n",
        "df['july'] = df[july].mean(axis=1)\n",
        "df['august'] = df[august].mean(axis=1)"
      ]
    },
    {
      "cell_type": "code",
      "execution_count": null,
      "metadata": {
        "colab": {
          "base_uri": "https://localhost:8080/",
          "height": 300
        },
        "id": "2CTUV33NyXCb",
        "outputId": "0a30b615-7365-459c-8dc1-30ba5baee15e"
      },
      "outputs": [
        {
          "output_type": "execute_result",
          "data": {
            "text/plain": [
              "         april       may      june      july    august\n",
              "crop                                                  \n",
              "0     0.135043  0.211439  0.285099  0.485183  0.223736\n",
              "1     0.101833  0.173338  0.278212  0.475195  0.274526\n",
              "2     0.119647  0.215467  0.349603  0.429830  0.143225\n",
              "3     0.125495  0.207140  0.369562  0.347704  0.261970\n",
              "4     0.151588  0.170840  0.296640  0.506080  0.239018\n",
              "5     0.140078  0.259436  0.376604  0.312908  0.229467\n",
              "6     0.114752  0.198339  0.282813  0.490362  0.257836"
            ],
            "text/html": [
              "\n",
              "  <div id=\"df-d71b9d80-b896-4f15-8a8d-648f27906b46\">\n",
              "    <div class=\"colab-df-container\">\n",
              "      <div>\n",
              "<style scoped>\n",
              "    .dataframe tbody tr th:only-of-type {\n",
              "        vertical-align: middle;\n",
              "    }\n",
              "\n",
              "    .dataframe tbody tr th {\n",
              "        vertical-align: top;\n",
              "    }\n",
              "\n",
              "    .dataframe thead th {\n",
              "        text-align: right;\n",
              "    }\n",
              "</style>\n",
              "<table border=\"1\" class=\"dataframe\">\n",
              "  <thead>\n",
              "    <tr style=\"text-align: right;\">\n",
              "      <th></th>\n",
              "      <th>april</th>\n",
              "      <th>may</th>\n",
              "      <th>june</th>\n",
              "      <th>july</th>\n",
              "      <th>august</th>\n",
              "    </tr>\n",
              "    <tr>\n",
              "      <th>crop</th>\n",
              "      <th></th>\n",
              "      <th></th>\n",
              "      <th></th>\n",
              "      <th></th>\n",
              "      <th></th>\n",
              "    </tr>\n",
              "  </thead>\n",
              "  <tbody>\n",
              "    <tr>\n",
              "      <th>0</th>\n",
              "      <td>0.135043</td>\n",
              "      <td>0.211439</td>\n",
              "      <td>0.285099</td>\n",
              "      <td>0.485183</td>\n",
              "      <td>0.223736</td>\n",
              "    </tr>\n",
              "    <tr>\n",
              "      <th>1</th>\n",
              "      <td>0.101833</td>\n",
              "      <td>0.173338</td>\n",
              "      <td>0.278212</td>\n",
              "      <td>0.475195</td>\n",
              "      <td>0.274526</td>\n",
              "    </tr>\n",
              "    <tr>\n",
              "      <th>2</th>\n",
              "      <td>0.119647</td>\n",
              "      <td>0.215467</td>\n",
              "      <td>0.349603</td>\n",
              "      <td>0.429830</td>\n",
              "      <td>0.143225</td>\n",
              "    </tr>\n",
              "    <tr>\n",
              "      <th>3</th>\n",
              "      <td>0.125495</td>\n",
              "      <td>0.207140</td>\n",
              "      <td>0.369562</td>\n",
              "      <td>0.347704</td>\n",
              "      <td>0.261970</td>\n",
              "    </tr>\n",
              "    <tr>\n",
              "      <th>4</th>\n",
              "      <td>0.151588</td>\n",
              "      <td>0.170840</td>\n",
              "      <td>0.296640</td>\n",
              "      <td>0.506080</td>\n",
              "      <td>0.239018</td>\n",
              "    </tr>\n",
              "    <tr>\n",
              "      <th>5</th>\n",
              "      <td>0.140078</td>\n",
              "      <td>0.259436</td>\n",
              "      <td>0.376604</td>\n",
              "      <td>0.312908</td>\n",
              "      <td>0.229467</td>\n",
              "    </tr>\n",
              "    <tr>\n",
              "      <th>6</th>\n",
              "      <td>0.114752</td>\n",
              "      <td>0.198339</td>\n",
              "      <td>0.282813</td>\n",
              "      <td>0.490362</td>\n",
              "      <td>0.257836</td>\n",
              "    </tr>\n",
              "  </tbody>\n",
              "</table>\n",
              "</div>\n",
              "      <button class=\"colab-df-convert\" onclick=\"convertToInteractive('df-d71b9d80-b896-4f15-8a8d-648f27906b46')\"\n",
              "              title=\"Convert this dataframe to an interactive table.\"\n",
              "              style=\"display:none;\">\n",
              "        \n",
              "  <svg xmlns=\"http://www.w3.org/2000/svg\" height=\"24px\"viewBox=\"0 0 24 24\"\n",
              "       width=\"24px\">\n",
              "    <path d=\"M0 0h24v24H0V0z\" fill=\"none\"/>\n",
              "    <path d=\"M18.56 5.44l.94 2.06.94-2.06 2.06-.94-2.06-.94-.94-2.06-.94 2.06-2.06.94zm-11 1L8.5 8.5l.94-2.06 2.06-.94-2.06-.94L8.5 2.5l-.94 2.06-2.06.94zm10 10l.94 2.06.94-2.06 2.06-.94-2.06-.94-.94-2.06-.94 2.06-2.06.94z\"/><path d=\"M17.41 7.96l-1.37-1.37c-.4-.4-.92-.59-1.43-.59-.52 0-1.04.2-1.43.59L10.3 9.45l-7.72 7.72c-.78.78-.78 2.05 0 2.83L4 21.41c.39.39.9.59 1.41.59.51 0 1.02-.2 1.41-.59l7.78-7.78 2.81-2.81c.8-.78.8-2.07 0-2.86zM5.41 20L4 18.59l7.72-7.72 1.47 1.35L5.41 20z\"/>\n",
              "  </svg>\n",
              "      </button>\n",
              "      \n",
              "  <style>\n",
              "    .colab-df-container {\n",
              "      display:flex;\n",
              "      flex-wrap:wrap;\n",
              "      gap: 12px;\n",
              "    }\n",
              "\n",
              "    .colab-df-convert {\n",
              "      background-color: #E8F0FE;\n",
              "      border: none;\n",
              "      border-radius: 50%;\n",
              "      cursor: pointer;\n",
              "      display: none;\n",
              "      fill: #1967D2;\n",
              "      height: 32px;\n",
              "      padding: 0 0 0 0;\n",
              "      width: 32px;\n",
              "    }\n",
              "\n",
              "    .colab-df-convert:hover {\n",
              "      background-color: #E2EBFA;\n",
              "      box-shadow: 0px 1px 2px rgba(60, 64, 67, 0.3), 0px 1px 3px 1px rgba(60, 64, 67, 0.15);\n",
              "      fill: #174EA6;\n",
              "    }\n",
              "\n",
              "    [theme=dark] .colab-df-convert {\n",
              "      background-color: #3B4455;\n",
              "      fill: #D2E3FC;\n",
              "    }\n",
              "\n",
              "    [theme=dark] .colab-df-convert:hover {\n",
              "      background-color: #434B5C;\n",
              "      box-shadow: 0px 1px 3px 1px rgba(0, 0, 0, 0.15);\n",
              "      filter: drop-shadow(0px 1px 2px rgba(0, 0, 0, 0.3));\n",
              "      fill: #FFFFFF;\n",
              "    }\n",
              "  </style>\n",
              "\n",
              "      <script>\n",
              "        const buttonEl =\n",
              "          document.querySelector('#df-d71b9d80-b896-4f15-8a8d-648f27906b46 button.colab-df-convert');\n",
              "        buttonEl.style.display =\n",
              "          google.colab.kernel.accessAllowed ? 'block' : 'none';\n",
              "\n",
              "        async function convertToInteractive(key) {\n",
              "          const element = document.querySelector('#df-d71b9d80-b896-4f15-8a8d-648f27906b46');\n",
              "          const dataTable =\n",
              "            await google.colab.kernel.invokeFunction('convertToInteractive',\n",
              "                                                     [key], {});\n",
              "          if (!dataTable) return;\n",
              "\n",
              "          const docLinkHtml = 'Like what you see? Visit the ' +\n",
              "            '<a target=\"_blank\" href=https://colab.research.google.com/notebooks/data_table.ipynb>data table notebook</a>'\n",
              "            + ' to learn more about interactive tables.';\n",
              "          element.innerHTML = '';\n",
              "          dataTable['output_type'] = 'display_data';\n",
              "          await google.colab.output.renderOutput(dataTable, element);\n",
              "          const docLink = document.createElement('div');\n",
              "          docLink.innerHTML = docLinkHtml;\n",
              "          element.appendChild(docLink);\n",
              "        }\n",
              "      </script>\n",
              "    </div>\n",
              "  </div>\n",
              "  "
            ]
          },
          "metadata": {},
          "execution_count": 17
        }
      ],
      "source": [
        "df.groupby('crop')[['april', 'may', 'june', 'july', 'august']].mean()"
      ]
    },
    {
      "cell_type": "markdown",
      "metadata": {
        "id": "enmk8Cmw25JX"
      },
      "source": [
        "## Обучение моделей"
      ]
    },
    {
      "cell_type": "markdown",
      "metadata": {
        "id": "R50CtVY74E_1"
      },
      "source": [
        "Создадим scorer."
      ]
    },
    {
      "cell_type": "code",
      "execution_count": null,
      "metadata": {
        "id": "2UsTD1Ou35Hs"
      },
      "outputs": [],
      "source": [
        "scorer=make_scorer(recall_score, average='macro', zero_division=0)"
      ]
    },
    {
      "cell_type": "markdown",
      "metadata": {
        "id": "RF-fuaA54JBQ"
      },
      "source": [
        "Создадим функцию для добавления результатов работы моделей."
      ]
    },
    {
      "cell_type": "code",
      "execution_count": null,
      "metadata": {
        "id": "g-NmsTsF38E6"
      },
      "outputs": [],
      "source": [
        "results = {'name': [], 'best_params':[], 'Recall':[]}\n",
        "\n",
        "def add_model_result(results, name, best_params, recall):\n",
        "    results['name'].append(name)\n",
        "    results['best_params'].append(best_params)\n",
        "    results['Recall'].append(recall)"
      ]
    },
    {
      "cell_type": "markdown",
      "metadata": {
        "id": "v5foY1fg4NI2"
      },
      "source": [
        "Разделим данные на признаки и целевой признак."
      ]
    },
    {
      "cell_type": "code",
      "execution_count": null,
      "metadata": {
        "id": "ufhvN4Wp27Xo"
      },
      "outputs": [],
      "source": [
        "X = df.drop(['id', 'crop', '.geo'], axis =1)\n",
        "y = df['crop']"
      ]
    },
    {
      "cell_type": "code",
      "execution_count": null,
      "metadata": {
        "id": "VNSWqbEQEuIZ"
      },
      "outputs": [],
      "source": [
        "models = [LogisticRegression(),\n",
        "          KNeighborsClassifier(), \n",
        "          GaussianNB(), \n",
        "          SVC(random_state=17), \n",
        "          RandomForestClassifier(random_state=42), \n",
        "          xgb.XGBClassifier(random_state=42, objective = 'multi:softmax'),\n",
        "          CatBoostClassifier(random_state=42, loss_function = 'MultiClass', silent=True),\n",
        "          lgb.LGBMClassifier(random_state=42, objective = 'multiclass')]\n",
        "\n",
        "scores = []\n",
        "for n, model in enumerate(models):\n",
        "    scores.append(cross_val_score(model, X, y, scoring=scorer, cv=5).mean())\n",
        "\n",
        "names = ['Логистическая регрессия', 'Метод К-ближайших соседей',\n",
        "         'Байесовский классификатор', 'Метод опорных векторов',\n",
        "         'RandomForest', 'XGBoost', 'CatBoost', 'LightGBM']"
      ]
    },
    {
      "cell_type": "code",
      "execution_count": null,
      "metadata": {
        "colab": {
          "base_uri": "https://localhost:8080/",
          "height": 300
        },
        "id": "9jGVsQALOC4Z",
        "outputId": "5e1588a7-3aec-46b9-f101-15808f007d68"
      },
      "outputs": [
        {
          "data": {
            "text/html": [
              "\n",
              "  <div id=\"df-0b1dbb5c-66ed-4b11-81ed-bc08b77c210e\">\n",
              "    <div class=\"colab-df-container\">\n",
              "      <div>\n",
              "<style scoped>\n",
              "    .dataframe tbody tr th:only-of-type {\n",
              "        vertical-align: middle;\n",
              "    }\n",
              "\n",
              "    .dataframe tbody tr th {\n",
              "        vertical-align: top;\n",
              "    }\n",
              "\n",
              "    .dataframe thead th {\n",
              "        text-align: right;\n",
              "    }\n",
              "</style>\n",
              "<table border=\"1\" class=\"dataframe\">\n",
              "  <thead>\n",
              "    <tr style=\"text-align: right;\">\n",
              "      <th></th>\n",
              "      <th>Recall</th>\n",
              "    </tr>\n",
              "  </thead>\n",
              "  <tbody>\n",
              "    <tr>\n",
              "      <th>LightGBM</th>\n",
              "      <td>0.972858</td>\n",
              "    </tr>\n",
              "    <tr>\n",
              "      <th>CatBoost</th>\n",
              "      <td>0.968533</td>\n",
              "    </tr>\n",
              "    <tr>\n",
              "      <th>RandomForest</th>\n",
              "      <td>0.964298</td>\n",
              "    </tr>\n",
              "    <tr>\n",
              "      <th>XGBoost</th>\n",
              "      <td>0.962588</td>\n",
              "    </tr>\n",
              "    <tr>\n",
              "      <th>Байесовский классификатор</th>\n",
              "      <td>0.938119</td>\n",
              "    </tr>\n",
              "    <tr>\n",
              "      <th>Логистическая регрессия</th>\n",
              "      <td>0.875306</td>\n",
              "    </tr>\n",
              "    <tr>\n",
              "      <th>Метод К-ближайших соседей</th>\n",
              "      <td>0.495883</td>\n",
              "    </tr>\n",
              "    <tr>\n",
              "      <th>Метод опорных векторов</th>\n",
              "      <td>0.275639</td>\n",
              "    </tr>\n",
              "  </tbody>\n",
              "</table>\n",
              "</div>\n",
              "      <button class=\"colab-df-convert\" onclick=\"convertToInteractive('df-0b1dbb5c-66ed-4b11-81ed-bc08b77c210e')\"\n",
              "              title=\"Convert this dataframe to an interactive table.\"\n",
              "              style=\"display:none;\">\n",
              "        \n",
              "  <svg xmlns=\"http://www.w3.org/2000/svg\" height=\"24px\"viewBox=\"0 0 24 24\"\n",
              "       width=\"24px\">\n",
              "    <path d=\"M0 0h24v24H0V0z\" fill=\"none\"/>\n",
              "    <path d=\"M18.56 5.44l.94 2.06.94-2.06 2.06-.94-2.06-.94-.94-2.06-.94 2.06-2.06.94zm-11 1L8.5 8.5l.94-2.06 2.06-.94-2.06-.94L8.5 2.5l-.94 2.06-2.06.94zm10 10l.94 2.06.94-2.06 2.06-.94-2.06-.94-.94-2.06-.94 2.06-2.06.94z\"/><path d=\"M17.41 7.96l-1.37-1.37c-.4-.4-.92-.59-1.43-.59-.52 0-1.04.2-1.43.59L10.3 9.45l-7.72 7.72c-.78.78-.78 2.05 0 2.83L4 21.41c.39.39.9.59 1.41.59.51 0 1.02-.2 1.41-.59l7.78-7.78 2.81-2.81c.8-.78.8-2.07 0-2.86zM5.41 20L4 18.59l7.72-7.72 1.47 1.35L5.41 20z\"/>\n",
              "  </svg>\n",
              "      </button>\n",
              "      \n",
              "  <style>\n",
              "    .colab-df-container {\n",
              "      display:flex;\n",
              "      flex-wrap:wrap;\n",
              "      gap: 12px;\n",
              "    }\n",
              "\n",
              "    .colab-df-convert {\n",
              "      background-color: #E8F0FE;\n",
              "      border: none;\n",
              "      border-radius: 50%;\n",
              "      cursor: pointer;\n",
              "      display: none;\n",
              "      fill: #1967D2;\n",
              "      height: 32px;\n",
              "      padding: 0 0 0 0;\n",
              "      width: 32px;\n",
              "    }\n",
              "\n",
              "    .colab-df-convert:hover {\n",
              "      background-color: #E2EBFA;\n",
              "      box-shadow: 0px 1px 2px rgba(60, 64, 67, 0.3), 0px 1px 3px 1px rgba(60, 64, 67, 0.15);\n",
              "      fill: #174EA6;\n",
              "    }\n",
              "\n",
              "    [theme=dark] .colab-df-convert {\n",
              "      background-color: #3B4455;\n",
              "      fill: #D2E3FC;\n",
              "    }\n",
              "\n",
              "    [theme=dark] .colab-df-convert:hover {\n",
              "      background-color: #434B5C;\n",
              "      box-shadow: 0px 1px 3px 1px rgba(0, 0, 0, 0.15);\n",
              "      filter: drop-shadow(0px 1px 2px rgba(0, 0, 0, 0.3));\n",
              "      fill: #FFFFFF;\n",
              "    }\n",
              "  </style>\n",
              "\n",
              "      <script>\n",
              "        const buttonEl =\n",
              "          document.querySelector('#df-0b1dbb5c-66ed-4b11-81ed-bc08b77c210e button.colab-df-convert');\n",
              "        buttonEl.style.display =\n",
              "          google.colab.kernel.accessAllowed ? 'block' : 'none';\n",
              "\n",
              "        async function convertToInteractive(key) {\n",
              "          const element = document.querySelector('#df-0b1dbb5c-66ed-4b11-81ed-bc08b77c210e');\n",
              "          const dataTable =\n",
              "            await google.colab.kernel.invokeFunction('convertToInteractive',\n",
              "                                                     [key], {});\n",
              "          if (!dataTable) return;\n",
              "\n",
              "          const docLinkHtml = 'Like what you see? Visit the ' +\n",
              "            '<a target=\"_blank\" href=https://colab.research.google.com/notebooks/data_table.ipynb>data table notebook</a>'\n",
              "            + ' to learn more about interactive tables.';\n",
              "          element.innerHTML = '';\n",
              "          dataTable['output_type'] = 'display_data';\n",
              "          await google.colab.output.renderOutput(dataTable, element);\n",
              "          const docLink = document.createElement('div');\n",
              "          docLink.innerHTML = docLinkHtml;\n",
              "          element.appendChild(docLink);\n",
              "        }\n",
              "      </script>\n",
              "    </div>\n",
              "  </div>\n",
              "  "
            ],
            "text/plain": [
              "                             Recall\n",
              "LightGBM                   0.972858\n",
              "CatBoost                   0.968533\n",
              "RandomForest               0.964298\n",
              "XGBoost                    0.962588\n",
              "Байесовский классификатор  0.938119\n",
              "Логистическая регрессия    0.875306\n",
              "Метод К-ближайших соседей  0.495883\n",
              "Метод опорных векторов     0.275639"
            ]
          },
          "execution_count": 22,
          "metadata": {},
          "output_type": "execute_result"
        }
      ],
      "source": [
        "pd.DataFrame({'Recall': scores}, index=names).sort_values(by='Recall', ascending=False)"
      ]
    },
    {
      "cell_type": "markdown",
      "metadata": {
        "id": "z_bDmHtE4X8J"
      },
      "source": [
        "### LightGBM"
      ]
    },
    {
      "cell_type": "code",
      "execution_count": null,
      "metadata": {
        "id": "aHIleOKV6YP9",
        "colab": {
          "base_uri": "https://localhost:8080/"
        },
        "outputId": "36ca22d7-c140-4ec7-caa6-3064bd7d359e"
      },
      "outputs": [
        {
          "output_type": "stream",
          "name": "stdout",
          "text": [
            "recall =  0.9733948428320005\n"
          ]
        }
      ],
      "source": [
        "pipe_lgb = Pipeline([('scaler', StandardScaler()), ('clf', lgb.LGBMClassifier())])\n",
        "recall_lgb = (cross_val_score(pipe_lgb, X, y, scoring=scorer, cv=5)).mean()\n",
        "print('recall = ', recall_lgb)"
      ]
    },
    {
      "cell_type": "code",
      "execution_count": null,
      "metadata": {
        "id": "sBApQEf7OB0J"
      },
      "outputs": [],
      "source": [
        "add_model_result(results, 'LightGBM', 'None', recall_lgb)"
      ]
    },
    {
      "cell_type": "code",
      "execution_count": null,
      "metadata": {
        "id": "hgpGiOCp8061"
      },
      "outputs": [],
      "source": [
        "def objective(trial):\n",
        "\n",
        "    param = {\n",
        "        \"num_leaves\": trial.suggest_int(\"num_leaves\", 2, 256),\n",
        "        'max_depth' : trial.suggest_int('max_depth', -1, 15),\n",
        "        'n_estimators' : trial.suggest_int('n_estimators', 50, 200),\n",
        "        \"learning_rate\": trial.suggest_float(\"learning_rate\", 0.005, 0.3),\n",
        "        'bagging_fraction': trial.suggest_uniform('bagging_fraction', 0.4, 1.0),\n",
        "        'bagging_freq': trial.suggest_int('bagging_freq', 1, 7),\n",
        "        'min_data_in_leaf': trial.suggest_int('min_data_in_leaf', 1, 50),\n",
        "        'min_child_samples': trial.suggest_int('min_child_samples', 5, 100)\n",
        "    }\n",
        "\n",
        "    model = lgb.LGBMClassifier(**param)\n",
        "    score = cross_val_score(model, X, y, scoring=scorer, cv=3).mean()\n",
        "    return score"
      ]
    },
    {
      "cell_type": "code",
      "execution_count": null,
      "metadata": {
        "colab": {
          "background_save": true,
          "base_uri": "https://localhost:8080/"
        },
        "id": "X4lBrynD9RoS",
        "outputId": "64f69fd4-5045-47ce-9d0c-f80892fc42cd"
      },
      "outputs": [
        {
          "name": "stderr",
          "output_type": "stream",
          "text": [
            "\u001b[32m[I 2022-11-19 17:07:30,635]\u001b[0m A new study created in memory with name: no-name-f54cc678-05ea-46b0-b0b8-1bb42c31c056\u001b[0m\n",
            "\u001b[32m[I 2022-11-19 17:08:55,293]\u001b[0m Trial 0 finished with value: 0.9691671414501508 and parameters: {'num_leaves': 93, 'max_depth': -1, 'n_estimators': 150, 'learning_rate': 0.17075429769322392, 'bagging_fraction': 0.9415462119720704, 'bagging_freq': 5, 'min_data_in_leaf': 7, 'min_child_samples': 83}. Best is trial 0 with value: 0.9691671414501508.\u001b[0m\n",
            "\u001b[32m[I 2022-11-19 17:09:17,422]\u001b[0m Trial 1 finished with value: 0.9674500205236513 and parameters: {'num_leaves': 20, 'max_depth': 7, 'n_estimators': 117, 'learning_rate': 0.09381078255595653, 'bagging_fraction': 0.9229364985973441, 'bagging_freq': 5, 'min_data_in_leaf': 10, 'min_child_samples': 21}. Best is trial 0 with value: 0.9691671414501508.\u001b[0m\n",
            "\u001b[32m[I 2022-11-19 17:10:57,202]\u001b[0m Trial 2 finished with value: 0.9634246208472103 and parameters: {'num_leaves': 98, 'max_depth': 15, 'n_estimators': 123, 'learning_rate': 0.029772304629302977, 'bagging_fraction': 0.7837712066875414, 'bagging_freq': 4, 'min_data_in_leaf': 6, 'min_child_samples': 87}. Best is trial 0 with value: 0.9691671414501508.\u001b[0m\n",
            "\u001b[32m[I 2022-11-19 17:11:16,464]\u001b[0m Trial 3 finished with value: 0.970239881402941 and parameters: {'num_leaves': 18, 'max_depth': 11, 'n_estimators': 110, 'learning_rate': 0.22094904671031546, 'bagging_fraction': 0.6887376358084576, 'bagging_freq': 4, 'min_data_in_leaf': 40, 'min_child_samples': 61}. Best is trial 3 with value: 0.970239881402941.\u001b[0m\n",
            "\u001b[32m[I 2022-11-19 17:11:22,757]\u001b[0m Trial 4 finished with value: 0.9615306569739532 and parameters: {'num_leaves': 3, 'max_depth': 6, 'n_estimators': 116, 'learning_rate': 0.14039477203975773, 'bagging_fraction': 0.9498675459594881, 'bagging_freq': 3, 'min_data_in_leaf': 28, 'min_child_samples': 36}. Best is trial 3 with value: 0.970239881402941.\u001b[0m\n",
            "\u001b[32m[I 2022-11-19 17:11:43,708]\u001b[0m Trial 5 finished with value: 0.7519093844376966 and parameters: {'num_leaves': 219, 'max_depth': 14, 'n_estimators': 135, 'learning_rate': 0.26762035384634203, 'bagging_fraction': 0.5063917088201805, 'bagging_freq': 4, 'min_data_in_leaf': 33, 'min_child_samples': 6}. Best is trial 3 with value: 0.970239881402941.\u001b[0m\n",
            "\u001b[32m[I 2022-11-19 17:13:10,252]\u001b[0m Trial 6 finished with value: 0.9679912599737873 and parameters: {'num_leaves': 168, 'max_depth': 11, 'n_estimators': 141, 'learning_rate': 0.11085853471679895, 'bagging_fraction': 0.8741616775595562, 'bagging_freq': 6, 'min_data_in_leaf': 15, 'min_child_samples': 78}. Best is trial 3 with value: 0.970239881402941.\u001b[0m\n",
            "\u001b[32m[I 2022-11-19 17:13:34,707]\u001b[0m Trial 7 finished with value: 0.9653361287660515 and parameters: {'num_leaves': 201, 'max_depth': 0, 'n_estimators': 70, 'learning_rate': 0.0780280483638075, 'bagging_fraction': 0.6855128725316129, 'bagging_freq': 7, 'min_data_in_leaf': 32, 'min_child_samples': 63}. Best is trial 3 with value: 0.970239881402941.\u001b[0m\n",
            "\u001b[32m[I 2022-11-19 17:14:16,337]\u001b[0m Trial 8 finished with value: 0.9655180311541365 and parameters: {'num_leaves': 113, 'max_depth': 7, 'n_estimators': 139, 'learning_rate': 0.190160386521178, 'bagging_fraction': 0.6526090399600664, 'bagging_freq': 3, 'min_data_in_leaf': 2, 'min_child_samples': 14}. Best is trial 3 with value: 0.970239881402941.\u001b[0m\n",
            "\u001b[32m[I 2022-11-19 17:14:37,688]\u001b[0m Trial 9 finished with value: 0.9643425063248875 and parameters: {'num_leaves': 29, 'max_depth': 0, 'n_estimators': 188, 'learning_rate': 0.2920509546542108, 'bagging_fraction': 0.46327579280189857, 'bagging_freq': 2, 'min_data_in_leaf': 31, 'min_child_samples': 21}. Best is trial 3 with value: 0.970239881402941.\u001b[0m\n",
            "\u001b[32m[I 2022-11-19 17:14:52,382]\u001b[0m Trial 10 finished with value: 0.965730622170153 and parameters: {'num_leaves': 61, 'max_depth': 11, 'n_estimators': 69, 'learning_rate': 0.23165904360148956, 'bagging_fraction': 0.5932596265088819, 'bagging_freq': 1, 'min_data_in_leaf': 50, 'min_child_samples': 52}. Best is trial 3 with value: 0.970239881402941.\u001b[0m\n",
            "\u001b[32m[I 2022-11-19 17:15:04,631]\u001b[0m Trial 11 finished with value: 0.9658288368750817 and parameters: {'num_leaves': 82, 'max_depth': 3, 'n_estimators': 184, 'learning_rate': 0.1997730722864651, 'bagging_fraction': 0.8019707733538232, 'bagging_freq': 5, 'min_data_in_leaf': 44, 'min_child_samples': 99}. Best is trial 3 with value: 0.970239881402941.\u001b[0m\n",
            "\u001b[32m[I 2022-11-19 17:15:54,016]\u001b[0m Trial 12 finished with value: 0.9682030320612748 and parameters: {'num_leaves': 151, 'max_depth': 10, 'n_estimators': 93, 'learning_rate': 0.17464083053824456, 'bagging_fraction': 0.9991819464066516, 'bagging_freq': 5, 'min_data_in_leaf': 19, 'min_child_samples': 64}. Best is trial 3 with value: 0.970239881402941.\u001b[0m\n",
            "\u001b[32m[I 2022-11-19 17:16:02,808]\u001b[0m Trial 13 finished with value: 0.9654904225734517 and parameters: {'num_leaves': 55, 'max_depth': 3, 'n_estimators': 160, 'learning_rate': 0.23684851783821287, 'bagging_fraction': 0.7839973829141615, 'bagging_freq': 7, 'min_data_in_leaf': 39, 'min_child_samples': 76}. Best is trial 3 with value: 0.970239881402941.\u001b[0m\n",
            "\u001b[32m[I 2022-11-19 17:16:20,139]\u001b[0m Trial 14 finished with value: 0.9637990590144577 and parameters: {'num_leaves': 130, 'max_depth': 4, 'n_estimators': 165, 'learning_rate': 0.14218771527506402, 'bagging_fraction': 0.5885170459554198, 'bagging_freq': 3, 'min_data_in_leaf': 21, 'min_child_samples': 49}. Best is trial 3 with value: 0.970239881402941.\u001b[0m\n",
            "\u001b[32m[I 2022-11-19 17:16:43,255]\u001b[0m Trial 15 finished with value: 0.9700403816427453 and parameters: {'num_leaves': 54, 'max_depth': 9, 'n_estimators': 93, 'learning_rate': 0.23012846104162119, 'bagging_fraction': 0.8396712569160751, 'bagging_freq': 5, 'min_data_in_leaf': 39, 'min_child_samples': 98}. Best is trial 3 with value: 0.970239881402941.\u001b[0m\n",
            "\u001b[32m[I 2022-11-19 17:17:08,282]\u001b[0m Trial 16 finished with value: 0.9670900393967617 and parameters: {'num_leaves': 48, 'max_depth': 9, 'n_estimators': 94, 'learning_rate': 0.23000040508218275, 'bagging_fraction': 0.8394005138844832, 'bagging_freq': 6, 'min_data_in_leaf': 39, 'min_child_samples': 96}. Best is trial 3 with value: 0.970239881402941.\u001b[0m\n",
            "\u001b[32m[I 2022-11-19 17:17:25,566]\u001b[0m Trial 17 finished with value: 0.9676055114175991 and parameters: {'num_leaves': 31, 'max_depth': 13, 'n_estimators': 94, 'learning_rate': 0.26849799470096014, 'bagging_fraction': 0.7253950894089324, 'bagging_freq': 6, 'min_data_in_leaf': 48, 'min_child_samples': 36}. Best is trial 3 with value: 0.970239881402941.\u001b[0m\n",
            "\u001b[32m[I 2022-11-19 17:17:27,566]\u001b[0m Trial 18 finished with value: 0.9586572579499514 and parameters: {'num_leaves': 3, 'max_depth': 9, 'n_estimators': 57, 'learning_rate': 0.21009835945786992, 'bagging_fraction': 0.7370063294980779, 'bagging_freq': 4, 'min_data_in_leaf': 39, 'min_child_samples': 65}. Best is trial 3 with value: 0.970239881402941.\u001b[0m\n",
            "\u001b[32m[I 2022-11-19 17:17:46,667]\u001b[0m Trial 19 finished with value: 0.9689943061006637 and parameters: {'num_leaves': 250, 'max_depth': 12, 'n_estimators': 105, 'learning_rate': 0.2557978582687667, 'bagging_fraction': 0.6101024590009294, 'bagging_freq': 2, 'min_data_in_leaf': 44, 'min_child_samples': 34}. Best is trial 3 with value: 0.970239881402941.\u001b[0m\n",
            "\u001b[32m[I 2022-11-19 17:18:03,089]\u001b[0m Trial 20 finished with value: 0.9630879703734833 and parameters: {'num_leaves': 64, 'max_depth': 8, 'n_estimators': 74, 'learning_rate': 0.2941040633611062, 'bagging_fraction': 0.5127085834693609, 'bagging_freq': 4, 'min_data_in_leaf': 25, 'min_child_samples': 71}. Best is trial 3 with value: 0.970239881402941.\u001b[0m\n",
            "\u001b[32m[I 2022-11-19 17:18:29,620]\u001b[0m Trial 21 finished with value: 0.9688824297119152 and parameters: {'num_leaves': 87, 'max_depth': 5, 'n_estimators': 163, 'learning_rate': 0.17125419985832288, 'bagging_fraction': 0.8795063056824611, 'bagging_freq': 5, 'min_data_in_leaf': 36, 'min_child_samples': 88}. Best is trial 3 with value: 0.970239881402941.\u001b[0m\n",
            "\u001b[32m[I 2022-11-19 17:19:25,546]\u001b[0m Trial 22 finished with value: 0.971009959174003 and parameters: {'num_leaves': 121, 'max_depth': -1, 'n_estimators': 151, 'learning_rate': 0.21330355300297277, 'bagging_fraction': 0.9525894845534096, 'bagging_freq': 5, 'min_data_in_leaf': 12, 'min_child_samples': 88}. Best is trial 22 with value: 0.971009959174003.\u001b[0m\n",
            "\u001b[32m[I 2022-11-19 17:19:29,543]\u001b[0m Trial 23 finished with value: 0.9666469296369066 and parameters: {'num_leaves': 130, 'max_depth': 2, 'n_estimators': 105, 'learning_rate': 0.208127042888735, 'bagging_fraction': 0.9965993361609148, 'bagging_freq': 6, 'min_data_in_leaf': 16, 'min_child_samples': 93}. Best is trial 22 with value: 0.971009959174003.\u001b[0m\n",
            "\u001b[32m[I 2022-11-19 17:19:54,833]\u001b[0m Trial 24 finished with value: 0.9687882721484232 and parameters: {'num_leaves': 161, 'max_depth': 12, 'n_estimators': 85, 'learning_rate': 0.2420310640188542, 'bagging_fraction': 0.8739506494350474, 'bagging_freq': 3, 'min_data_in_leaf': 44, 'min_child_samples': 100}. Best is trial 22 with value: 0.971009959174003.\u001b[0m\n",
            "\u001b[32m[I 2022-11-19 17:20:09,783]\u001b[0m Trial 25 finished with value: 0.9664614847507954 and parameters: {'num_leaves': 38, 'max_depth': 9, 'n_estimators': 50, 'learning_rate': 0.22120630995189514, 'bagging_fraction': 0.8278668990458592, 'bagging_freq': 5, 'min_data_in_leaf': 27, 'min_child_samples': 79}. Best is trial 22 with value: 0.971009959174003.\u001b[0m\n",
            "\u001b[32m[I 2022-11-19 17:20:30,812]\u001b[0m Trial 26 finished with value: 0.9695926790478323 and parameters: {'num_leaves': 182, 'max_depth': 6, 'n_estimators': 176, 'learning_rate': 0.2564902395359871, 'bagging_fraction': 0.7648061264883934, 'bagging_freq': 4, 'min_data_in_leaf': 23, 'min_child_samples': 90}. Best is trial 22 with value: 0.971009959174003.\u001b[0m\n",
            "\u001b[32m[I 2022-11-19 17:21:18,451]\u001b[0m Trial 27 finished with value: 0.967745541921869 and parameters: {'num_leaves': 74, 'max_depth': 10, 'n_estimators': 128, 'learning_rate': 0.18768286489839758, 'bagging_fraction': 0.6733576540784179, 'bagging_freq': 6, 'min_data_in_leaf': 11, 'min_child_samples': 44}. Best is trial 22 with value: 0.971009959174003.\u001b[0m\n",
            "\u001b[32m[I 2022-11-19 17:21:20,758]\u001b[0m Trial 28 finished with value: 0.9509946268994502 and parameters: {'num_leaves': 109, 'max_depth': 1, 'n_estimators': 111, 'learning_rate': 0.1576594725682003, 'bagging_fraction': 0.9219149625072955, 'bagging_freq': 2, 'min_data_in_leaf': 36, 'min_child_samples': 59}. Best is trial 22 with value: 0.971009959174003.\u001b[0m\n",
            "\u001b[32m[I 2022-11-19 17:21:46,795]\u001b[0m Trial 29 finished with value: 0.9693420623315733 and parameters: {'num_leaves': 15, 'max_depth': 8, 'n_estimators': 152, 'learning_rate': 0.12344751996817166, 'bagging_fraction': 0.9639657631892431, 'bagging_freq': 4, 'min_data_in_leaf': 42, 'min_child_samples': 83}. Best is trial 22 with value: 0.971009959174003.\u001b[0m\n",
            "\u001b[32m[I 2022-11-19 17:22:31,263]\u001b[0m Trial 30 finished with value: 0.9470594333188741 and parameters: {'num_leaves': 43, 'max_depth': -1, 'n_estimators': 80, 'learning_rate': 0.008118556056409182, 'bagging_fraction': 0.9049778839676023, 'bagging_freq': 7, 'min_data_in_leaf': 1, 'min_child_samples': 71}. Best is trial 22 with value: 0.971009959174003.\u001b[0m\n",
            "\u001b[32m[I 2022-11-19 17:22:48,952]\u001b[0m Trial 31 finished with value: 0.9676766271346393 and parameters: {'num_leaves': 187, 'max_depth': 5, 'n_estimators': 174, 'learning_rate': 0.25528594410931943, 'bagging_fraction': 0.7456662601136332, 'bagging_freq': 4, 'min_data_in_leaf': 21, 'min_child_samples': 92}. Best is trial 22 with value: 0.971009959174003.\u001b[0m\n",
            "\u001b[32m[I 2022-11-19 17:23:09,742]\u001b[0m Trial 32 finished with value: 0.9646605982056283 and parameters: {'num_leaves': 234, 'max_depth': 6, 'n_estimators': 145, 'learning_rate': 0.2755507305944253, 'bagging_fraction': 0.6348981231525876, 'bagging_freq': 5, 'min_data_in_leaf': 11, 'min_child_samples': 89}. Best is trial 22 with value: 0.971009959174003.\u001b[0m\n",
            "\u001b[32m[I 2022-11-19 17:24:13,678]\u001b[0m Trial 33 finished with value: 0.9673898507219215 and parameters: {'num_leaves': 189, 'max_depth': 14, 'n_estimators': 196, 'learning_rate': 0.25465265448530633, 'bagging_fraction': 0.8290615654463042, 'bagging_freq': 4, 'min_data_in_leaf': 8, 'min_child_samples': 88}. Best is trial 22 with value: 0.971009959174003.\u001b[0m\n",
            "\u001b[32m[I 2022-11-19 17:24:51,193]\u001b[0m Trial 34 finished with value: 0.9699684870981731 and parameters: {'num_leaves': 147, 'max_depth': 11, 'n_estimators': 174, 'learning_rate': 0.21642460932016538, 'bagging_fraction': 0.7707142572615282, 'bagging_freq': 5, 'min_data_in_leaf': 24, 'min_child_samples': 83}. Best is trial 22 with value: 0.971009959174003.\u001b[0m\n",
            "\u001b[32m[I 2022-11-19 17:25:31,079]\u001b[0m Trial 35 finished with value: 0.9711877981355803 and parameters: {'num_leaves': 152, 'max_depth': 11, 'n_estimators': 128, 'learning_rate': 0.21370271603189214, 'bagging_fraction': 0.7037064899598562, 'bagging_freq': 5, 'min_data_in_leaf': 29, 'min_child_samples': 82}. Best is trial 35 with value: 0.9711877981355803.\u001b[0m\n",
            "\u001b[32m[I 2022-11-19 17:26:12,492]\u001b[0m Trial 36 finished with value: 0.9702713942196226 and parameters: {'num_leaves': 104, 'max_depth': 13, 'n_estimators': 128, 'learning_rate': 0.18363115474473443, 'bagging_fraction': 0.7068128030688473, 'bagging_freq': 5, 'min_data_in_leaf': 29, 'min_child_samples': 72}. Best is trial 35 with value: 0.9711877981355803.\u001b[0m\n",
            "\u001b[32m[I 2022-11-19 17:26:53,233]\u001b[0m Trial 37 finished with value: 0.9691891894648 and parameters: {'num_leaves': 102, 'max_depth': 15, 'n_estimators': 128, 'learning_rate': 0.19293925844490772, 'bagging_fraction': 0.712093517458875, 'bagging_freq': 6, 'min_data_in_leaf': 29, 'min_child_samples': 71}. Best is trial 35 with value: 0.9711877981355803.\u001b[0m\n",
            "\u001b[32m[I 2022-11-19 17:27:50,581]\u001b[0m Trial 38 finished with value: 0.9672326799714073 and parameters: {'num_leaves': 115, 'max_depth': 13, 'n_estimators': 121, 'learning_rate': 0.1579682951068433, 'bagging_fraction': 0.5333660900784076, 'bagging_freq': 5, 'min_data_in_leaf': 15, 'min_child_samples': 74}. Best is trial 35 with value: 0.9711877981355803.\u001b[0m\n",
            "\u001b[32m[I 2022-11-19 17:28:30,179]\u001b[0m Trial 39 finished with value: 0.9690699494078236 and parameters: {'num_leaves': 147, 'max_depth': 14, 'n_estimators': 151, 'learning_rate': 0.17817502103293403, 'bagging_fraction': 0.6986404111807836, 'bagging_freq': 6, 'min_data_in_leaf': 34, 'min_child_samples': 58}. Best is trial 35 with value: 0.9711877981355803.\u001b[0m\n",
            "\u001b[32m[I 2022-11-19 17:29:20,805]\u001b[0m Trial 40 finished with value: 0.9684022225091317 and parameters: {'num_leaves': 122, 'max_depth': 12, 'n_estimators': 135, 'learning_rate': 0.08739093208546257, 'bagging_fraction': 0.564626670116536, 'bagging_freq': 3, 'min_data_in_leaf': 28, 'min_child_samples': 81}. Best is trial 35 with value: 0.9711877981355803.\u001b[0m\n",
            "\u001b[32m[I 2022-11-19 17:29:51,014]\u001b[0m Trial 41 finished with value: 0.9718357342578154 and parameters: {'num_leaves': 101, 'max_depth': 10, 'n_estimators': 115, 'learning_rate': 0.20283417207258064, 'bagging_fraction': 0.655918643596263, 'bagging_freq': 5, 'min_data_in_leaf': 31, 'min_child_samples': 83}. Best is trial 41 with value: 0.9718357342578154.\u001b[0m\n",
            "\u001b[32m[I 2022-11-19 17:30:18,474]\u001b[0m Trial 42 finished with value: 0.9639633729912086 and parameters: {'num_leaves': 94, 'max_depth': 13, 'n_estimators': 117, 'learning_rate': 0.20487830019179765, 'bagging_fraction': 0.4294261106630942, 'bagging_freq': 5, 'min_data_in_leaf': 30, 'min_child_samples': 66}. Best is trial 41 with value: 0.9718357342578154.\u001b[0m\n",
            "\u001b[32m[I 2022-11-19 17:30:59,483]\u001b[0m Trial 43 finished with value: 0.9670928487355054 and parameters: {'num_leaves': 136, 'max_depth': 10, 'n_estimators': 132, 'learning_rate': 0.06327216920626148, 'bagging_fraction': 0.6407628643780874, 'bagging_freq': 4, 'min_data_in_leaf': 34, 'min_child_samples': 84}. Best is trial 41 with value: 0.9718357342578154.\u001b[0m\n",
            "\u001b[32m[I 2022-11-19 17:31:31,598]\u001b[0m Trial 44 finished with value: 0.967715265418008 and parameters: {'num_leaves': 171, 'max_depth': 11, 'n_estimators': 111, 'learning_rate': 0.19198060253510243, 'bagging_fraction': 0.6748410454052743, 'bagging_freq': 5, 'min_data_in_leaf': 32, 'min_child_samples': 58}. Best is trial 41 with value: 0.9718357342578154.\u001b[0m\n",
            "\u001b[32m[I 2022-11-19 17:32:14,327]\u001b[0m Trial 45 finished with value: 0.9682151734425223 and parameters: {'num_leaves': 73, 'max_depth': 12, 'n_estimators': 144, 'learning_rate': 0.1333068952934731, 'bagging_fraction': 0.6254969984404223, 'bagging_freq': 4, 'min_data_in_leaf': 36, 'min_child_samples': 77}. Best is trial 41 with value: 0.9718357342578154.\u001b[0m\n",
            "\u001b[32m[I 2022-11-19 17:32:59,212]\u001b[0m Trial 46 finished with value: 0.9685790492551468 and parameters: {'num_leaves': 102, 'max_depth': 8, 'n_estimators': 124, 'learning_rate': 0.22109182395231503, 'bagging_fraction': 0.6629972650231045, 'bagging_freq': 5, 'min_data_in_leaf': 5, 'min_child_samples': 69}. Best is trial 41 with value: 0.9718357342578154.\u001b[0m\n",
            "\u001b[32m[I 2022-11-19 17:33:34,999]\u001b[0m Trial 47 finished with value: 0.9662914832972715 and parameters: {'num_leaves': 214, 'max_depth': 15, 'n_estimators': 103, 'learning_rate': 0.18037220495944897, 'bagging_fraction': 0.5629224400950148, 'bagging_freq': 5, 'min_data_in_leaf': 27, 'min_child_samples': 75}. Best is trial 41 with value: 0.9718357342578154.\u001b[0m\n",
            "\u001b[32m[I 2022-11-19 17:34:29,887]\u001b[0m Trial 48 finished with value: 0.9673735915377861 and parameters: {'num_leaves': 159, 'max_depth': 11, 'n_estimators': 138, 'learning_rate': 0.160349794705962, 'bagging_fraction': 0.7032820619491468, 'bagging_freq': 6, 'min_data_in_leaf': 18, 'min_child_samples': 61}. Best is trial 41 with value: 0.9718357342578154.\u001b[0m\n",
            "\u001b[32m[I 2022-11-19 17:34:58,249]\u001b[0m Trial 49 finished with value: 0.9697830917234697 and parameters: {'num_leaves': 140, 'max_depth': 10, 'n_estimators': 114, 'learning_rate': 0.24251768532792356, 'bagging_fraction': 0.7985061054162631, 'bagging_freq': 4, 'min_data_in_leaf': 31, 'min_child_samples': 53}. Best is trial 41 with value: 0.9718357342578154.\u001b[0m\n",
            "\u001b[32m[I 2022-11-19 17:35:59,900]\u001b[0m Trial 50 finished with value: 0.9654812493341604 and parameters: {'num_leaves': 120, 'max_depth': 14, 'n_estimators': 155, 'learning_rate': 0.19568259648475936, 'bagging_fraction': 0.5874256331969079, 'bagging_freq': 3, 'min_data_in_leaf': 23, 'min_child_samples': 85}. Best is trial 41 with value: 0.9718357342578154.\u001b[0m\n",
            "\u001b[32m[I 2022-11-19 17:36:14,335]\u001b[0m Trial 51 finished with value: 0.9693918110990395 and parameters: {'num_leaves': 17, 'max_depth': 9, 'n_estimators': 98, 'learning_rate': 0.22938079799454705, 'bagging_fraction': 0.7493979324824322, 'bagging_freq': 5, 'min_data_in_leaf': 42, 'min_child_samples': 96}. Best is trial 41 with value: 0.9718357342578154.\u001b[0m\n",
            "\u001b[32m[I 2022-11-19 17:36:35,738]\u001b[0m Trial 52 finished with value: 0.9694932716600236 and parameters: {'num_leaves': 81, 'max_depth': 7, 'n_estimators': 89, 'learning_rate': 0.2150020707329902, 'bagging_fraction': 0.9582755113262873, 'bagging_freq': 5, 'min_data_in_leaf': 38, 'min_child_samples': 96}. Best is trial 41 with value: 0.9718357342578154.\u001b[0m\n",
            "\u001b[32m[I 2022-11-19 17:37:04,845]\u001b[0m Trial 53 finished with value: 0.9714624439244499 and parameters: {'num_leaves': 54, 'max_depth': 11, 'n_estimators': 120, 'learning_rate': 0.2268275836244891, 'bagging_fraction': 0.8559376294749842, 'bagging_freq': 5, 'min_data_in_leaf': 48, 'min_child_samples': 80}. Best is trial 41 with value: 0.9718357342578154.\u001b[0m\n",
            "\u001b[32m[I 2022-11-19 17:37:27,803]\u001b[0m Trial 54 finished with value: 0.9678792972353035 and parameters: {'num_leaves': 31, 'max_depth': 11, 'n_estimators': 121, 'learning_rate': 0.20254194051101365, 'bagging_fraction': 0.6892083886473752, 'bagging_freq': 6, 'min_data_in_leaf': 48, 'min_child_samples': 80}. Best is trial 41 with value: 0.9718357342578154.\u001b[0m\n",
            "\u001b[32m[I 2022-11-19 17:37:30,286]\u001b[0m Trial 55 finished with value: 0.9617685789935514 and parameters: {'num_leaves': 2, 'max_depth': 13, 'n_estimators': 131, 'learning_rate': 0.276702478259012, 'bagging_fraction': 0.8592007304568015, 'bagging_freq': 4, 'min_data_in_leaf': 47, 'min_child_samples': 66}. Best is trial 41 with value: 0.9718357342578154.\u001b[0m\n",
            "\u001b[32m[I 2022-11-19 17:37:56,455]\u001b[0m Trial 56 finished with value: 0.9688205013328544 and parameters: {'num_leaves': 61, 'max_depth': 12, 'n_estimators': 106, 'learning_rate': 0.23635851487492998, 'bagging_fraction': 0.7259015579434027, 'bagging_freq': 5, 'min_data_in_leaf': 42, 'min_child_samples': 75}. Best is trial 41 with value: 0.9718357342578154.\u001b[0m\n",
            "\u001b[32m[I 2022-11-19 17:38:34,614]\u001b[0m Trial 57 finished with value: 0.9686430337921377 and parameters: {'num_leaves': 89, 'max_depth': 10, 'n_estimators': 119, 'learning_rate': 0.18529892789820454, 'bagging_fraction': 0.902408363578591, 'bagging_freq': 6, 'min_data_in_leaf': 33, 'min_child_samples': 80}. Best is trial 41 with value: 0.9718357342578154.\u001b[0m\n",
            "\u001b[32m[I 2022-11-19 17:39:22,833]\u001b[0m Trial 58 finished with value: 0.9716196017981846 and parameters: {'num_leaves': 123, 'max_depth': 12, 'n_estimators': 143, 'learning_rate': 0.16828089242840974, 'bagging_fraction': 0.6551308715432781, 'bagging_freq': 1, 'min_data_in_leaf': 26, 'min_child_samples': 86}. Best is trial 41 with value: 0.9718357342578154.\u001b[0m\n",
            "\u001b[32m[I 2022-11-19 17:40:06,134]\u001b[0m Trial 59 finished with value: 0.9707175066613806 and parameters: {'num_leaves': 129, 'max_depth': 12, 'n_estimators': 158, 'learning_rate': 0.16536336159289972, 'bagging_fraction': 0.656200559663527, 'bagging_freq': 1, 'min_data_in_leaf': 26, 'min_child_samples': 86}. Best is trial 41 with value: 0.9718357342578154.\u001b[0m\n",
            "\u001b[32m[I 2022-11-19 17:40:55,214]\u001b[0m Trial 60 finished with value: 0.9701927404169423 and parameters: {'num_leaves': 128, 'max_depth': 12, 'n_estimators': 158, 'learning_rate': 0.16757370263419868, 'bagging_fraction': 0.6145713590480845, 'bagging_freq': 2, 'min_data_in_leaf': 21, 'min_child_samples': 92}. Best is trial 41 with value: 0.9718357342578154.\u001b[0m\n",
            "\u001b[32m[I 2022-11-19 17:41:44,307]\u001b[0m Trial 61 finished with value: 0.9699339111623432 and parameters: {'num_leaves': 110, 'max_depth': 13, 'n_estimators': 146, 'learning_rate': 0.14535182294912244, 'bagging_fraction': 0.6569166921207537, 'bagging_freq': 1, 'min_data_in_leaf': 27, 'min_child_samples': 88}. Best is trial 41 with value: 0.9718357342578154.\u001b[0m\n",
            "\u001b[32m[I 2022-11-19 17:42:33,393]\u001b[0m Trial 62 finished with value: 0.9707988639854482 and parameters: {'num_leaves': 138, 'max_depth': 12, 'n_estimators': 169, 'learning_rate': 0.17098459016332673, 'bagging_fraction': 0.6517283502775325, 'bagging_freq': 1, 'min_data_in_leaf': 25, 'min_child_samples': 85}. Best is trial 41 with value: 0.9718357342578154.\u001b[0m\n",
            "\u001b[32m[I 2022-11-19 17:43:19,009]\u001b[0m Trial 63 finished with value: 0.971779843155184 and parameters: {'num_leaves': 139, 'max_depth': 11, 'n_estimators': 168, 'learning_rate': 0.16630358746895063, 'bagging_fraction': 0.5975287129861105, 'bagging_freq': 1, 'min_data_in_leaf': 25, 'min_child_samples': 94}. Best is trial 41 with value: 0.9718357342578154.\u001b[0m\n",
            "\u001b[32m[I 2022-11-19 17:44:18,826]\u001b[0m Trial 64 finished with value: 0.9691787047863617 and parameters: {'num_leaves': 154, 'max_depth': 10, 'n_estimators': 168, 'learning_rate': 0.14276015130720587, 'bagging_fraction': 0.5916463777382197, 'bagging_freq': 1, 'min_data_in_leaf': 14, 'min_child_samples': 95}. Best is trial 41 with value: 0.9718357342578154.\u001b[0m\n",
            "\u001b[32m[I 2022-11-19 17:45:11,866]\u001b[0m Trial 65 finished with value: 0.9707632507901968 and parameters: {'num_leaves': 140, 'max_depth': 11, 'n_estimators': 183, 'learning_rate': 0.1504788403309859, 'bagging_fraction': 0.5586838530358893, 'bagging_freq': 1, 'min_data_in_leaf': 19, 'min_child_samples': 90}. Best is trial 41 with value: 0.9718357342578154.\u001b[0m\n",
            "\u001b[32m[I 2022-11-19 17:45:45,370]\u001b[0m Trial 66 finished with value: 0.9661224406773893 and parameters: {'num_leaves': 171, 'max_depth': 11, 'n_estimators': 166, 'learning_rate': 0.20563319716043454, 'bagging_fraction': 0.47269138358876, 'bagging_freq': 1, 'min_data_in_leaf': 25, 'min_child_samples': 81}. Best is trial 41 with value: 0.9718357342578154.\u001b[0m\n",
            "\u001b[32m[I 2022-11-19 17:46:46,975]\u001b[0m Trial 67 finished with value: 0.9690683580998812 and parameters: {'num_leaves': 122, 'max_depth': 9, 'n_estimators': 138, 'learning_rate': 0.1268906206777236, 'bagging_fraction': 0.9832370160503414, 'bagging_freq': 2, 'min_data_in_leaf': 23, 'min_child_samples': 99}. Best is trial 41 with value: 0.9718357342578154.\u001b[0m\n",
            "\u001b[32m[I 2022-11-19 17:48:17,093]\u001b[0m Trial 68 finished with value: 0.9694157753403284 and parameters: {'num_leaves': 161, 'max_depth': -1, 'n_estimators': 171, 'learning_rate': 0.10526478944986521, 'bagging_fraction': 0.6149069852124567, 'bagging_freq': 2, 'min_data_in_leaf': 17, 'min_child_samples': 92}. Best is trial 41 with value: 0.9718357342578154.\u001b[0m\n",
            "\u001b[32m[I 2022-11-19 17:48:58,560]\u001b[0m Trial 69 finished with value: 0.9701687101043461 and parameters: {'num_leaves': 116, 'max_depth': 8, 'n_estimators': 149, 'learning_rate': 0.17364326690695697, 'bagging_fraction': 0.5398452051430542, 'bagging_freq': 1, 'min_data_in_leaf': 13, 'min_child_samples': 85}. Best is trial 41 with value: 0.9718357342578154.\u001b[0m\n",
            "\u001b[32m[I 2022-11-19 17:49:48,956]\u001b[0m Trial 70 finished with value: 0.9703943277698195 and parameters: {'num_leaves': 142, 'max_depth': 14, 'n_estimators': 180, 'learning_rate': 0.22790214528490757, 'bagging_fraction': 0.9258889520295053, 'bagging_freq': 1, 'min_data_in_leaf': 21, 'min_child_samples': 94}. Best is trial 41 with value: 0.9718357342578154.\u001b[0m\n",
            "\u001b[32m[I 2022-11-19 17:50:51,397]\u001b[0m Trial 71 finished with value: 0.9685871374358584 and parameters: {'num_leaves': 140, 'max_depth': 11, 'n_estimators': 191, 'learning_rate': 0.11914099532051878, 'bagging_fraction': 0.5691351370871331, 'bagging_freq': 1, 'min_data_in_leaf': 20, 'min_child_samples': 90}. Best is trial 41 with value: 0.9718357342578154.\u001b[0m\n",
            "\u001b[32m[I 2022-11-19 17:52:14,536]\u001b[0m Trial 72 finished with value: 0.9719855284975484 and parameters: {'num_leaves': 135, 'max_depth': 10, 'n_estimators': 184, 'learning_rate': 0.150746251184781, 'bagging_fraction': 0.6426868701199809, 'bagging_freq': 1, 'min_data_in_leaf': 4, 'min_child_samples': 87}. Best is trial 72 with value: 0.9719855284975484.\u001b[0m\n",
            "\u001b[32m[I 2022-11-19 17:53:39,356]\u001b[0m Trial 73 finished with value: 0.9687749279324341 and parameters: {'num_leaves': 152, 'max_depth': 10, 'n_estimators': 177, 'learning_rate': 0.15054276964622132, 'bagging_fraction': 0.6446621318604174, 'bagging_freq': 2, 'min_data_in_leaf': 5, 'min_child_samples': 86}. Best is trial 72 with value: 0.9719855284975484.\u001b[0m\n",
            "\u001b[32m[I 2022-11-19 17:55:06,861]\u001b[0m Trial 74 finished with value: 0.9708876149754532 and parameters: {'num_leaves': 130, 'max_depth': 12, 'n_estimators': 142, 'learning_rate': 0.13452406193971542, 'bagging_fraction': 0.675254367487097, 'bagging_freq': 1, 'min_data_in_leaf': 7, 'min_child_samples': 78}. Best is trial 72 with value: 0.9719855284975484.\u001b[0m\n",
            "\u001b[32m[I 2022-11-19 17:56:28,525]\u001b[0m Trial 75 finished with value: 0.9714390914411041 and parameters: {'num_leaves': 129, 'max_depth': 9, 'n_estimators': 142, 'learning_rate': 0.10304645777563394, 'bagging_fraction': 0.6052454099726701, 'bagging_freq': 1, 'min_data_in_leaf': 8, 'min_child_samples': 82}. Best is trial 72 with value: 0.9719855284975484.\u001b[0m\n",
            "\u001b[32m[I 2022-11-19 17:58:52,888]\u001b[0m Trial 76 finished with value: 0.9683758985253562 and parameters: {'num_leaves': 95, 'max_depth': 9, 'n_estimators': 199, 'learning_rate': 0.0468922456468599, 'bagging_fraction': 0.6001732040690463, 'bagging_freq': 1, 'min_data_in_leaf': 3, 'min_child_samples': 22}. Best is trial 72 with value: 0.9719855284975484.\u001b[0m\n",
            "\u001b[32m[I 2022-11-19 17:59:35,881]\u001b[0m Trial 77 finished with value: 0.9691739092688367 and parameters: {'num_leaves': 107, 'max_depth': 10, 'n_estimators': 162, 'learning_rate': 0.2484012338365389, 'bagging_fraction': 0.6222200788929768, 'bagging_freq': 1, 'min_data_in_leaf': 9, 'min_child_samples': 82}. Best is trial 72 with value: 0.9719855284975484.\u001b[0m\n",
            "\u001b[32m[I 2022-11-19 18:00:23,299]\u001b[0m Trial 78 finished with value: 0.968575393595939 and parameters: {'num_leaves': 178, 'max_depth': 8, 'n_estimators': 135, 'learning_rate': 0.21137676475523662, 'bagging_fraction': 0.6344360709591315, 'bagging_freq': 2, 'min_data_in_leaf': 3, 'min_child_samples': 78}. Best is trial 72 with value: 0.9719855284975484.\u001b[0m\n",
            "\u001b[32m[I 2022-11-19 18:01:20,729]\u001b[0m Trial 79 finished with value: 0.9709964938369771 and parameters: {'num_leaves': 132, 'max_depth': 7, 'n_estimators': 187, 'learning_rate': 0.09363734849441387, 'bagging_fraction': 0.5789526095175523, 'bagging_freq': 1, 'min_data_in_leaf': 12, 'min_child_samples': 98}. Best is trial 72 with value: 0.9719855284975484.\u001b[0m\n",
            "\u001b[32m[I 2022-11-19 18:02:07,106]\u001b[0m Trial 80 finished with value: 0.9657652764458927 and parameters: {'num_leaves': 125, 'max_depth': 9, 'n_estimators': 153, 'learning_rate': 0.19689378444778355, 'bagging_fraction': 0.49661044995185233, 'bagging_freq': 2, 'min_data_in_leaf': 9, 'min_child_samples': 5}. Best is trial 72 with value: 0.9719855284975484.\u001b[0m\n",
            "\u001b[32m[I 2022-11-19 18:02:18,231]\u001b[0m Trial 81 finished with value: 0.9669097121748095 and parameters: {'num_leaves': 148, 'max_depth': 3, 'n_estimators': 191, 'learning_rate': 0.07746518343557861, 'bagging_fraction': 0.5821400280115345, 'bagging_freq': 1, 'min_data_in_leaf': 12, 'min_child_samples': 100}. Best is trial 72 with value: 0.9719855284975484.\u001b[0m\n",
            "\u001b[32m[I 2022-11-19 18:03:23,667]\u001b[0m Trial 82 finished with value: 0.9689899289828506 and parameters: {'num_leaves': 135, 'max_depth': 7, 'n_estimators': 188, 'learning_rate': 0.10074637367395697, 'bagging_fraction': 0.5306394608104164, 'bagging_freq': 1, 'min_data_in_leaf': 7, 'min_child_samples': 91}. Best is trial 72 with value: 0.9719855284975484.\u001b[0m\n",
            "\u001b[32m[I 2022-11-19 18:05:05,856]\u001b[0m Trial 83 finished with value: 0.9712531299918256 and parameters: {'num_leaves': 114, 'max_depth': 0, 'n_estimators': 126, 'learning_rate': 0.08878804021851508, 'bagging_fraction': 0.6079256594719162, 'bagging_freq': 1, 'min_data_in_leaf': 10, 'min_child_samples': 98}. Best is trial 72 with value: 0.9719855284975484.\u001b[0m\n",
            "\u001b[32m[I 2022-11-19 18:07:06,351]\u001b[0m Trial 84 finished with value: 0.9668032345604303 and parameters: {'num_leaves': 116, 'max_depth': 0, 'n_estimators': 126, 'learning_rate': 0.06884468103848626, 'bagging_fraction': 0.5982241834721244, 'bagging_freq': 5, 'min_data_in_leaf': 5, 'min_child_samples': 83}. Best is trial 72 with value: 0.9719855284975484.\u001b[0m\n",
            "\u001b[32m[I 2022-11-19 18:07:08,811]\u001b[0m Trial 85 finished with value: 0.9517785117788936 and parameters: {'num_leaves': 98, 'max_depth': 1, 'n_estimators': 148, 'learning_rate': 0.1149228139943447, 'bagging_fraction': 0.6048150164898058, 'bagging_freq': 1, 'min_data_in_leaf': 10, 'min_child_samples': 96}. Best is trial 72 with value: 0.9719855284975484.\u001b[0m\n",
            "\u001b[32m[I 2022-11-19 18:07:30,201]\u001b[0m Trial 86 finished with value: 0.9706190308779776 and parameters: {'num_leaves': 72, 'max_depth': -1, 'n_estimators': 114, 'learning_rate': 0.22274248664534446, 'bagging_fraction': 0.6259713611305949, 'bagging_freq': 1, 'min_data_in_leaf': 50, 'min_child_samples': 88}. Best is trial 72 with value: 0.9719855284975484.\u001b[0m\n",
            "\u001b[32m[I 2022-11-19 18:10:00,569]\u001b[0m Trial 87 finished with value: 0.9642926840669223 and parameters: {'num_leaves': 112, 'max_depth': 11, 'n_estimators': 141, 'learning_rate': 0.05465801719431843, 'bagging_fraction': 0.6857302712247607, 'bagging_freq': 7, 'min_data_in_leaf': 1, 'min_child_samples': 93}. Best is trial 72 with value: 0.9719855284975484.\u001b[0m\n",
            "\u001b[32m[I 2022-11-19 18:11:57,127]\u001b[0m Trial 88 finished with value: 0.9686224361200195 and parameters: {'num_leaves': 120, 'max_depth': 0, 'n_estimators': 132, 'learning_rate': 0.10904153555272393, 'bagging_fraction': 0.5542854720287369, 'bagging_freq': 2, 'min_data_in_leaf': 3, 'min_child_samples': 87}. Best is trial 72 with value: 0.9719855284975484.\u001b[0m\n",
            "\u001b[32m[I 2022-11-19 18:11:59,541]\u001b[0m Trial 89 finished with value: 0.941809531280018 and parameters: {'num_leaves': 165, 'max_depth': 1, 'n_estimators': 135, 'learning_rate': 0.086659610652477, 'bagging_fraction': 0.7155678354665879, 'bagging_freq': 5, 'min_data_in_leaf': 6, 'min_child_samples': 69}. Best is trial 72 with value: 0.9719855284975484.\u001b[0m\n",
            "\u001b[32m[I 2022-11-19 18:12:31,047]\u001b[0m Trial 90 finished with value: 0.9690064781114268 and parameters: {'num_leaves': 81, 'max_depth': 10, 'n_estimators': 109, 'learning_rate': 0.21508350506299165, 'bagging_fraction': 0.800983211931931, 'bagging_freq': 6, 'min_data_in_leaf': 30, 'min_child_samples': 74}. Best is trial 72 with value: 0.9719855284975484.\u001b[0m\n",
            "\u001b[32m[I 2022-11-19 18:12:43,439]\u001b[0m Trial 91 finished with value: 0.968324526961753 and parameters: {'num_leaves': 133, 'max_depth': 4, 'n_estimators': 123, 'learning_rate': 0.09555899116571613, 'bagging_fraction': 0.6372411357642921, 'bagging_freq': 1, 'min_data_in_leaf': 11, 'min_child_samples': 98}. Best is trial 72 with value: 0.9719855284975484.\u001b[0m\n",
            "\u001b[32m[I 2022-11-19 18:14:25,631]\u001b[0m Trial 92 finished with value: 0.9698235917797491 and parameters: {'num_leaves': 155, 'max_depth': -1, 'n_estimators': 183, 'learning_rate': 0.08896545808847323, 'bagging_fraction': 0.576954587294628, 'bagging_freq': 1, 'min_data_in_leaf': 15, 'min_child_samples': 97}. Best is trial 72 with value: 0.9719855284975484.\u001b[0m\n",
            "\u001b[32m[I 2022-11-19 18:15:28,606]\u001b[0m Trial 93 finished with value: 0.9681119489368243 and parameters: {'num_leaves': 125, 'max_depth': 11, 'n_estimators': 117, 'learning_rate': 0.0699911427653464, 'bagging_fraction': 0.5411760457893218, 'bagging_freq': 1, 'min_data_in_leaf': 13, 'min_child_samples': 94}. Best is trial 72 with value: 0.9719855284975484.\u001b[0m\n",
            "\u001b[32m[I 2022-11-19 18:16:40,355]\u001b[0m Trial 94 finished with value: 0.9692642079171078 and parameters: {'num_leaves': 146, 'max_depth': 0, 'n_estimators': 101, 'learning_rate': 0.18977621673986522, 'bagging_fraction': 0.671781028575502, 'bagging_freq': 5, 'min_data_in_leaf': 10, 'min_child_samples': 90}. Best is trial 72 with value: 0.9719855284975484.\u001b[0m\n",
            "\u001b[32m[I 2022-11-19 18:17:12,357]\u001b[0m Trial 95 finished with value: 0.9696828350132326 and parameters: {'num_leaves': 103, 'max_depth': 6, 'n_estimators': 130, 'learning_rate': 0.13002798136923854, 'bagging_fraction': 0.8901107690081014, 'bagging_freq': 1, 'min_data_in_leaf': 8, 'min_child_samples': 83}. Best is trial 72 with value: 0.9719855284975484.\u001b[0m\n",
            "\u001b[32m[I 2022-11-19 18:18:02,980]\u001b[0m Trial 96 finished with value: 0.9636709388034825 and parameters: {'num_leaves': 134, 'max_depth': 10, 'n_estimators': 125, 'learning_rate': 0.03583565457550915, 'bagging_fraction': 0.853677582409619, 'bagging_freq': 5, 'min_data_in_leaf': 28, 'min_child_samples': 30}. Best is trial 72 with value: 0.9719855284975484.\u001b[0m\n",
            "\u001b[32m[I 2022-11-19 18:18:43,345]\u001b[0m Trial 97 finished with value: 0.9703841805673091 and parameters: {'num_leaves': 88, 'max_depth': 9, 'n_estimators': 188, 'learning_rate': 0.23767211597439752, 'bagging_fraction': 0.9312506469830434, 'bagging_freq': 1, 'min_data_in_leaf': 16, 'min_child_samples': 100}. Best is trial 72 with value: 0.9719855284975484.\u001b[0m\n",
            "\u001b[32m[I 2022-11-19 18:18:49,224]\u001b[0m Trial 98 finished with value: 0.9661576114039256 and parameters: {'num_leaves': 144, 'max_depth': 2, 'n_estimators': 180, 'learning_rate': 0.16188570122077783, 'bagging_fraction': 0.6106139903760973, 'bagging_freq': 2, 'min_data_in_leaf': 8, 'min_child_samples': 87}. Best is trial 72 with value: 0.9719855284975484.\u001b[0m\n",
            "\u001b[32m[I 2022-11-19 18:19:14,629]\u001b[0m Trial 99 finished with value: 0.9677283931805882 and parameters: {'num_leaves': 116, 'max_depth': 5, 'n_estimators': 193, 'learning_rate': 0.17749499009523922, 'bagging_fraction': 0.6247644855302238, 'bagging_freq': 1, 'min_data_in_leaf': 6, 'min_child_samples': 94}. Best is trial 72 with value: 0.9719855284975484.\u001b[0m\n",
            "\u001b[32m[I 2022-11-19 18:20:02,073]\u001b[0m Trial 100 finished with value: 0.9691357977649774 and parameters: {'num_leaves': 108, 'max_depth': 11, 'n_estimators': 155, 'learning_rate': 0.20032472200859228, 'bagging_fraction': 0.5759132924049856, 'bagging_freq': 4, 'min_data_in_leaf': 12, 'min_child_samples': 80}. Best is trial 72 with value: 0.9719855284975484.\u001b[0m\n",
            "\u001b[32m[I 2022-11-19 18:21:31,804]\u001b[0m Trial 101 finished with value: 0.9710359667368939 and parameters: {'num_leaves': 130, 'max_depth': 12, 'n_estimators': 141, 'learning_rate': 0.1344211542547949, 'bagging_fraction': 0.6752713106129918, 'bagging_freq': 1, 'min_data_in_leaf': 4, 'min_child_samples': 79}. Best is trial 72 with value: 0.9719855284975484.\u001b[0m\n",
            "\u001b[32m[I 2022-11-19 18:23:02,893]\u001b[0m Trial 102 finished with value: 0.9706506537055707 and parameters: {'num_leaves': 126, 'max_depth': 13, 'n_estimators': 145, 'learning_rate': 0.13760152413912008, 'bagging_fraction': 0.6651251765695188, 'bagging_freq': 1, 'min_data_in_leaf': 4, 'min_child_samples': 89}. Best is trial 72 with value: 0.9719855284975484.\u001b[0m\n",
            "\u001b[32m[I 2022-11-19 18:25:28,147]\u001b[0m Trial 103 finished with value: 0.9699976337741957 and parameters: {'num_leaves': 132, 'max_depth': 12, 'n_estimators': 140, 'learning_rate': 0.07964453967378565, 'bagging_fraction': 0.6485041063785456, 'bagging_freq': 1, 'min_data_in_leaf': 2, 'min_child_samples': 9}. Best is trial 72 with value: 0.9719855284975484.\u001b[0m\n",
            "\u001b[32m[I 2022-11-19 18:26:17,119]\u001b[0m Trial 104 finished with value: 0.9710635191269149 and parameters: {'num_leaves': 54, 'max_depth': 11, 'n_estimators': 120, 'learning_rate': 0.12292477200305231, 'bagging_fraction': 0.6877864695025416, 'bagging_freq': 1, 'min_data_in_leaf': 9, 'min_child_samples': 76}. Best is trial 72 with value: 0.9719855284975484.\u001b[0m\n",
            "\u001b[32m[I 2022-11-19 18:27:07,111]\u001b[0m Trial 105 finished with value: 0.968387527704179 and parameters: {'num_leaves': 49, 'max_depth': 11, 'n_estimators': 120, 'learning_rate': 0.11638472377889755, 'bagging_fraction': 0.6934792267102938, 'bagging_freq': 1, 'min_data_in_leaf': 4, 'min_child_samples': 76}. Best is trial 72 with value: 0.9719855284975484.\u001b[0m\n",
            "\u001b[32m[I 2022-11-19 18:28:03,405]\u001b[0m Trial 106 finished with value: 0.9660954465410568 and parameters: {'num_leaves': 65, 'max_depth': 10, 'n_estimators': 113, 'learning_rate': 0.12401468189966558, 'bagging_fraction': 0.753112715241196, 'bagging_freq': 5, 'min_data_in_leaf': 7, 'min_child_samples': 84}. Best is trial 72 with value: 0.9719855284975484.\u001b[0m\n",
            "\u001b[32m[I 2022-11-19 18:28:35,171]\u001b[0m Trial 107 finished with value: 0.9689096700916952 and parameters: {'num_leaves': 54, 'max_depth': 12, 'n_estimators': 127, 'learning_rate': 0.14724645949745316, 'bagging_fraction': 0.7316987848993315, 'bagging_freq': 5, 'min_data_in_leaf': 46, 'min_child_samples': 81}. Best is trial 72 with value: 0.9719855284975484.\u001b[0m\n",
            "\u001b[32m[I 2022-11-19 18:29:01,285]\u001b[0m Trial 108 finished with value: 0.9705505000657976 and parameters: {'num_leaves': 28, 'max_depth': 11, 'n_estimators': 136, 'learning_rate': 0.1553069477630478, 'bagging_fraction': 0.8190046668164516, 'bagging_freq': 2, 'min_data_in_leaf': 37, 'min_child_samples': 73}. Best is trial 72 with value: 0.9719855284975484.\u001b[0m\n",
            "\u001b[32m[I 2022-11-19 18:30:33,157]\u001b[0m Trial 109 finished with value: 0.9693994350264128 and parameters: {'num_leaves': 120, 'max_depth': 12, 'n_estimators': 130, 'learning_rate': 0.10911434515618265, 'bagging_fraction': 0.7135930886370079, 'bagging_freq': 1, 'min_data_in_leaf': 9, 'min_child_samples': 45}. Best is trial 72 with value: 0.9719855284975484.\u001b[0m\n",
            "\u001b[32m[I 2022-11-19 18:31:05,086]\u001b[0m Trial 110 finished with value: 0.9685495776573854 and parameters: {'num_leaves': 151, 'max_depth': 13, 'n_estimators': 109, 'learning_rate': 0.22453644718181892, 'bagging_fraction': 0.6825546166889113, 'bagging_freq': 3, 'min_data_in_leaf': 26, 'min_child_samples': 78}. Best is trial 72 with value: 0.9719855284975484.\u001b[0m\n"
          ]
        },
        {
          "name": "stdout",
          "output_type": "stream",
          "text": [
            "CPU times: user 2h 38min 9s, sys: 1min 3s, total: 2h 39min 12s\n",
            "Wall time: 1h 23min 34s\n"
          ]
        }
      ],
      "source": [
        "%%time\n",
        "study_lgb = optuna.create_study(direction = \"maximize\")\n",
        "study_lgb.optimize(objective, n_trials = 200, timeout=5000)\n",
        "trial_lgb = study_lgb.best_trial"
      ]
    },
    {
      "cell_type": "code",
      "execution_count": null,
      "metadata": {
        "colab": {
          "background_save": true
        },
        "id": "6OZluX6v9bnO",
        "outputId": "551d2849-be08-4606-9fb7-2817d2dcfa43"
      },
      "outputs": [
        {
          "name": "stdout",
          "output_type": "stream",
          "text": [
            "Best Score:  0.9719855284975484\n",
            "Best Params:  {'num_leaves': 135, 'max_depth': 10, 'n_estimators': 184, 'learning_rate': 0.150746251184781, 'bagging_fraction': 0.6426868701199809, 'bagging_freq': 1, 'min_data_in_leaf': 4, 'min_child_samples': 87}\n"
          ]
        }
      ],
      "source": [
        "print(\"Best Score: \", trial_lgb.value)\n",
        "print(\"Best Params: \", study_lgb.best_params)"
      ]
    },
    {
      "cell_type": "markdown",
      "metadata": {
        "id": "dT9LwWdG4lqT"
      },
      "source": [
        "### CatBoost"
      ]
    },
    {
      "cell_type": "code",
      "execution_count": null,
      "metadata": {
        "colab": {
          "base_uri": "https://localhost:8080/"
        },
        "id": "QmQluN4qv3b_",
        "outputId": "4d7ef0db-4d41-4497-c0e6-091f40b14510"
      },
      "outputs": [
        {
          "name": "stdout",
          "output_type": "stream",
          "text": [
            "recall =  0.9677263825996791\n"
          ]
        }
      ],
      "source": [
        "model = CatBoostClassifier(silent = True)\n",
        "recall_cat = (cross_val_score(model,X, y, scoring=scorer, cv=5)).mean()\n",
        "print('recall = ', recall_cat)"
      ]
    },
    {
      "cell_type": "code",
      "execution_count": null,
      "metadata": {
        "id": "rq8KnA_OOd5h"
      },
      "outputs": [],
      "source": [
        "add_model_result(results, 'CatBoost', 'None', recall_cat)"
      ]
    },
    {
      "cell_type": "code",
      "execution_count": null,
      "metadata": {
        "colab": {
          "base_uri": "https://localhost:8080/"
        },
        "id": "t4pQRvpk4hEz",
        "outputId": "84ef779b-91f9-4bf9-9990-a872dc27caae"
      },
      "outputs": [
        {
          "name": "stdout",
          "output_type": "stream",
          "text": [
            "recall =  0.967501072226181\n"
          ]
        }
      ],
      "source": [
        "pipe_cat = Pipeline([('scaler', StandardScaler()), ('clf', CatBoostClassifier(silent = True))])\n",
        "recall = (cross_val_score(pipe_cat, X, y, scoring=scorer, cv=5)).mean()\n",
        "print('recall = ', recall)"
      ]
    },
    {
      "cell_type": "code",
      "execution_count": null,
      "metadata": {
        "id": "RBX39ZZ7H1hX"
      },
      "outputs": [],
      "source": [
        "def objective(trial):\n",
        "  \n",
        "    params = {\n",
        "        'depth': trial.suggest_int('depth', 3, 10),\n",
        "        'l2_leaf_reg': trial.suggest_int('l2_leaf_reg', 2, 10),\n",
        "        \"learning_rate\": trial.suggest_float(\"learning_rate\", 0.002, 0.12),\n",
        "        'iterations': trial.suggest_int('iterations', 500, 1700),\n",
        "        'random_strength': trial.suggest_int('random_strength', 0, 10),\n",
        "        'silent' : True\n",
        "      }\n",
        "\n",
        "    model = CatBoostClassifier(**params)\n",
        "    score = cross_val_score(model, X, y, scoring=scorer, cv=3).mean()\n",
        "    return score"
      ]
    },
    {
      "cell_type": "code",
      "execution_count": null,
      "metadata": {
        "colab": {
          "background_save": true,
          "base_uri": "https://localhost:8080/"
        },
        "id": "baegbhaYH2zO",
        "outputId": "4949b77a-4150-4c6d-95a0-0a8d9674f495"
      },
      "outputs": [
        {
          "name": "stderr",
          "output_type": "stream",
          "text": [
            "\u001b[32m[I 2022-11-19 10:18:43,220]\u001b[0m A new study created in memory with name: no-name-7c348d2a-ff35-43c4-b3c5-b7e2a278d2eb\u001b[0m\n",
            "\u001b[32m[I 2022-11-19 11:05:42,993]\u001b[0m Trial 0 finished with value: 0.9642609370779217 and parameters: {'depth': 9, 'l2_leaf_reg': 5, 'learning_rate': 0.032302126867768226, 'iterations': 1231, 'random_strength': 4}. Best is trial 0 with value: 0.9642609370779217.\u001b[0m\n"
          ]
        },
        {
          "name": "stdout",
          "output_type": "stream",
          "text": [
            "CPU times: user 1h 29min 20s, sys: 7.38 s, total: 1h 29min 28s\n",
            "Wall time: 46min 59s\n"
          ]
        }
      ],
      "source": [
        "%%time\n",
        "study_cat = optuna.create_study(direction = \"maximize\")\n",
        "study_cat.optimize(objective, n_trials = 50, timeout=1000)\n",
        "trial = study_cat.best_trial"
      ]
    },
    {
      "cell_type": "code",
      "execution_count": null,
      "metadata": {
        "colab": {
          "background_save": true
        },
        "id": "cns9XdOsGfrR",
        "outputId": "b1288c32-40fd-400d-f0f0-034d79570946"
      },
      "outputs": [
        {
          "name": "stdout",
          "output_type": "stream",
          "text": [
            "Best Score:  0.9642609370779217\n",
            "Best Params:  {'depth': 9, 'l2_leaf_reg': 5, 'learning_rate': 0.032302126867768226, 'iterations': 1231, 'random_strength': 4}\n"
          ]
        }
      ],
      "source": [
        "print(\"Best Score: \", trial.value)\n",
        "print(\"Best Params: \", study_cat.best_params)"
      ]
    },
    {
      "cell_type": "code",
      "execution_count": null,
      "metadata": {
        "colab": {
          "background_save": true
        },
        "id": "wtIIdqp1H8yj"
      },
      "outputs": [],
      "source": [
        "add_model_result(results, 'CatBoost_optuna', study_cat.best_params, trial.value)"
      ]
    },
    {
      "cell_type": "markdown",
      "metadata": {
        "id": "N3_BRDfjqZT7"
      },
      "source": [
        "### Ансамбль"
      ]
    },
    {
      "cell_type": "code",
      "execution_count": null,
      "metadata": {
        "colab": {
          "background_save": true
        },
        "id": "qmZQUCwaqfEe"
      },
      "outputs": [],
      "source": [
        "clf_one = CatBoostClassifier(silent=True)\n",
        "clf_two = lgb.LGBMClassifier()\n",
        "clf_three = xgb.XGBClassifier()\n",
        "clf_four = RandomForestClassifier(random_state=42)\n",
        "\n",
        "estimators = [\n",
        "    ('cat', clf_one),\n",
        "    ('lgb', clf_two),\n",
        "    ('xgb', clf_three),\n",
        "    ('rf', clf_four)\n",
        "]"
      ]
    },
    {
      "cell_type": "code",
      "execution_count": null,
      "metadata": {
        "colab": {
          "background_save": true
        },
        "id": "sRGaKp0RUkiS",
        "outputId": "83de914a-3980-4386-f1ee-2d86a286cc2f"
      },
      "outputs": [
        {
          "name": "stdout",
          "output_type": "stream",
          "text": [
            "recall =  0.9701492855806407\n"
          ]
        }
      ],
      "source": [
        "clf = VotingClassifier(estimators, voting='soft')\n",
        "recall_vc = (cross_val_score(clf,X, y, scoring=scorer, cv=5)).mean()\n",
        "print('recall = ', recall_vc)"
      ]
    },
    {
      "cell_type": "code",
      "execution_count": null,
      "metadata": {
        "colab": {
          "background_save": true
        },
        "id": "TPMeK7YeSMsn"
      },
      "outputs": [],
      "source": [
        "add_model_result(results, 'VotingClassifier', estimators, recall_vc)"
      ]
    },
    {
      "cell_type": "markdown",
      "metadata": {
        "id": "ce6TymHJ_B_V"
      },
      "source": [
        "### Stacking"
      ]
    },
    {
      "cell_type": "code",
      "execution_count": null,
      "metadata": {
        "colab": {
          "background_save": true
        },
        "id": "QP2gCUw7RY1H"
      },
      "outputs": [],
      "source": [
        "X_train, X_test, y_train, y_test = train_test_split(X, y, test_size=0.2, random_state=42)"
      ]
    },
    {
      "cell_type": "code",
      "execution_count": null,
      "metadata": {
        "colab": {
          "background_save": true
        },
        "id": "ORMxdWy__vQk",
        "outputId": "a74ad2d6-6fa0-4e43-a209-948d127affc1"
      },
      "outputs": [
        {
          "name": "stdout",
          "output_type": "stream",
          "text": [
            "recall =  0.9682500828889139\n"
          ]
        }
      ],
      "source": [
        "clf = StackingClassifier(estimators=estimators, \n",
        "                         final_estimator=LogisticRegression(),\n",
        "                         stack_method='auto',\n",
        "                         n_jobs=-1,\n",
        "                         passthrough=False)\n",
        "clf.fit(X_train, y_train)\n",
        "pred = clf.predict(X_test)\n",
        "recall_sc = recall_score(y_test, pred, average='macro', zero_division=0)\n",
        "print('recall = ', recall_sc)"
      ]
    },
    {
      "cell_type": "code",
      "execution_count": null,
      "metadata": {
        "colab": {
          "background_save": true
        },
        "id": "aE-ZwSNkLSm5"
      },
      "outputs": [],
      "source": [
        "add_model_result(results, 'StackingClassifier', estimators, recall_sc)\n"
      ]
    },
    {
      "cell_type": "markdown",
      "metadata": {
        "id": "KJ1zfyST5TKr"
      },
      "source": [
        "### Результаты"
      ]
    },
    {
      "cell_type": "code",
      "execution_count": null,
      "metadata": {
        "colab": {
          "background_save": true
        },
        "id": "b9_iVhrM5VFD",
        "outputId": "4d59a1a0-c0bb-4647-b1c6-9c0bd63eccac"
      },
      "outputs": [
        {
          "data": {
            "text/html": [
              "\n",
              "  <div id=\"df-3cea71e5-56ca-4ca3-a725-c4bcb65ffd71\">\n",
              "    <div class=\"colab-df-container\">\n",
              "      <div>\n",
              "<style scoped>\n",
              "    .dataframe tbody tr th:only-of-type {\n",
              "        vertical-align: middle;\n",
              "    }\n",
              "\n",
              "    .dataframe tbody tr th {\n",
              "        vertical-align: top;\n",
              "    }\n",
              "\n",
              "    .dataframe thead th {\n",
              "        text-align: right;\n",
              "    }\n",
              "</style>\n",
              "<table border=\"1\" class=\"dataframe\">\n",
              "  <thead>\n",
              "    <tr style=\"text-align: right;\">\n",
              "      <th></th>\n",
              "      <th>name</th>\n",
              "      <th>best_params</th>\n",
              "      <th>Recall</th>\n",
              "    </tr>\n",
              "  </thead>\n",
              "  <tbody>\n",
              "    <tr>\n",
              "      <th>0</th>\n",
              "      <td>LightGBM</td>\n",
              "      <td>None</td>\n",
              "      <td>0.973395</td>\n",
              "    </tr>\n",
              "    <tr>\n",
              "      <th>3</th>\n",
              "      <td>VotingClassifier</td>\n",
              "      <td>[(cat, &lt;catboost.core.CatBoostClassifier objec...</td>\n",
              "      <td>0.970149</td>\n",
              "    </tr>\n",
              "    <tr>\n",
              "      <th>4</th>\n",
              "      <td>StackingClassifier</td>\n",
              "      <td>[(cat, &lt;catboost.core.CatBoostClassifier objec...</td>\n",
              "      <td>0.968250</td>\n",
              "    </tr>\n",
              "    <tr>\n",
              "      <th>1</th>\n",
              "      <td>CatBoost</td>\n",
              "      <td>None</td>\n",
              "      <td>0.967726</td>\n",
              "    </tr>\n",
              "    <tr>\n",
              "      <th>2</th>\n",
              "      <td>CatBoost_optuna</td>\n",
              "      <td>{'depth': 9, 'l2_leaf_reg': 5, 'learning_rate'...</td>\n",
              "      <td>0.964261</td>\n",
              "    </tr>\n",
              "  </tbody>\n",
              "</table>\n",
              "</div>\n",
              "      <button class=\"colab-df-convert\" onclick=\"convertToInteractive('df-3cea71e5-56ca-4ca3-a725-c4bcb65ffd71')\"\n",
              "              title=\"Convert this dataframe to an interactive table.\"\n",
              "              style=\"display:none;\">\n",
              "        \n",
              "  <svg xmlns=\"http://www.w3.org/2000/svg\" height=\"24px\"viewBox=\"0 0 24 24\"\n",
              "       width=\"24px\">\n",
              "    <path d=\"M0 0h24v24H0V0z\" fill=\"none\"/>\n",
              "    <path d=\"M18.56 5.44l.94 2.06.94-2.06 2.06-.94-2.06-.94-.94-2.06-.94 2.06-2.06.94zm-11 1L8.5 8.5l.94-2.06 2.06-.94-2.06-.94L8.5 2.5l-.94 2.06-2.06.94zm10 10l.94 2.06.94-2.06 2.06-.94-2.06-.94-.94-2.06-.94 2.06-2.06.94z\"/><path d=\"M17.41 7.96l-1.37-1.37c-.4-.4-.92-.59-1.43-.59-.52 0-1.04.2-1.43.59L10.3 9.45l-7.72 7.72c-.78.78-.78 2.05 0 2.83L4 21.41c.39.39.9.59 1.41.59.51 0 1.02-.2 1.41-.59l7.78-7.78 2.81-2.81c.8-.78.8-2.07 0-2.86zM5.41 20L4 18.59l7.72-7.72 1.47 1.35L5.41 20z\"/>\n",
              "  </svg>\n",
              "      </button>\n",
              "      \n",
              "  <style>\n",
              "    .colab-df-container {\n",
              "      display:flex;\n",
              "      flex-wrap:wrap;\n",
              "      gap: 12px;\n",
              "    }\n",
              "\n",
              "    .colab-df-convert {\n",
              "      background-color: #E8F0FE;\n",
              "      border: none;\n",
              "      border-radius: 50%;\n",
              "      cursor: pointer;\n",
              "      display: none;\n",
              "      fill: #1967D2;\n",
              "      height: 32px;\n",
              "      padding: 0 0 0 0;\n",
              "      width: 32px;\n",
              "    }\n",
              "\n",
              "    .colab-df-convert:hover {\n",
              "      background-color: #E2EBFA;\n",
              "      box-shadow: 0px 1px 2px rgba(60, 64, 67, 0.3), 0px 1px 3px 1px rgba(60, 64, 67, 0.15);\n",
              "      fill: #174EA6;\n",
              "    }\n",
              "\n",
              "    [theme=dark] .colab-df-convert {\n",
              "      background-color: #3B4455;\n",
              "      fill: #D2E3FC;\n",
              "    }\n",
              "\n",
              "    [theme=dark] .colab-df-convert:hover {\n",
              "      background-color: #434B5C;\n",
              "      box-shadow: 0px 1px 3px 1px rgba(0, 0, 0, 0.15);\n",
              "      filter: drop-shadow(0px 1px 2px rgba(0, 0, 0, 0.3));\n",
              "      fill: #FFFFFF;\n",
              "    }\n",
              "  </style>\n",
              "\n",
              "      <script>\n",
              "        const buttonEl =\n",
              "          document.querySelector('#df-3cea71e5-56ca-4ca3-a725-c4bcb65ffd71 button.colab-df-convert');\n",
              "        buttonEl.style.display =\n",
              "          google.colab.kernel.accessAllowed ? 'block' : 'none';\n",
              "\n",
              "        async function convertToInteractive(key) {\n",
              "          const element = document.querySelector('#df-3cea71e5-56ca-4ca3-a725-c4bcb65ffd71');\n",
              "          const dataTable =\n",
              "            await google.colab.kernel.invokeFunction('convertToInteractive',\n",
              "                                                     [key], {});\n",
              "          if (!dataTable) return;\n",
              "\n",
              "          const docLinkHtml = 'Like what you see? Visit the ' +\n",
              "            '<a target=\"_blank\" href=https://colab.research.google.com/notebooks/data_table.ipynb>data table notebook</a>'\n",
              "            + ' to learn more about interactive tables.';\n",
              "          element.innerHTML = '';\n",
              "          dataTable['output_type'] = 'display_data';\n",
              "          await google.colab.output.renderOutput(dataTable, element);\n",
              "          const docLink = document.createElement('div');\n",
              "          docLink.innerHTML = docLinkHtml;\n",
              "          element.appendChild(docLink);\n",
              "        }\n",
              "      </script>\n",
              "    </div>\n",
              "  </div>\n",
              "  "
            ],
            "text/plain": [
              "                 name                                        best_params  \\\n",
              "0            LightGBM                                               None   \n",
              "3    VotingClassifier  [(cat, <catboost.core.CatBoostClassifier objec...   \n",
              "4  StackingClassifier  [(cat, <catboost.core.CatBoostClassifier objec...   \n",
              "1            CatBoost                                               None   \n",
              "2     CatBoost_optuna  {'depth': 9, 'l2_leaf_reg': 5, 'learning_rate'...   \n",
              "\n",
              "     Recall  \n",
              "0  0.973395  \n",
              "3  0.970149  \n",
              "4  0.968250  \n",
              "1  0.967726  \n",
              "2  0.964261  "
            ]
          },
          "execution_count": 42,
          "metadata": {},
          "output_type": "execute_result"
        }
      ],
      "source": [
        "pd.DataFrame(results).sort_values('Recall', ascending=False)"
      ]
    },
    {
      "cell_type": "markdown",
      "metadata": {
        "id": "XFRyvYeAPh71"
      },
      "source": [
        "Лучшей моделью стала LightGBM на стандартизированных признаках и дефолтных параметрах."
      ]
    },
    {
      "cell_type": "markdown",
      "metadata": {
        "id": "u-u-lvxwTnY0"
      },
      "source": [
        "## Тест"
      ]
    },
    {
      "cell_type": "code",
      "execution_count": null,
      "metadata": {
        "id": "2uh1HzMDTqzQ"
      },
      "outputs": [],
      "source": [
        "test = pd.read_csv('https://lodmedia.hb.bizmrg.com/case_files/883465/test_dataset_test.csv')\n",
        "solution = pd.read_csv('/content/sample_solution.csv')"
      ]
    },
    {
      "cell_type": "code",
      "execution_count": null,
      "metadata": {
        "id": "kEbRF10Xwc7J"
      },
      "outputs": [],
      "source": [
        "test['longitude'] = test['.geo'].str.findall('(\\d+\\.\\d+)').str[0].astype(float)\n",
        "test['latitude'] = test['.geo'].str.findall('(\\d+\\.\\d+)').str[1].astype(float)\n",
        "\n",
        "test['april'] = test[april].mean(axis=1)\n",
        "test['may'] = test[may].mean(axis=1)\n",
        "test['june'] = test[june].mean(axis=1)\n",
        "test['july'] = test[july].mean(axis=1)\n",
        "test['august'] = test[august].mean(axis=1)"
      ]
    },
    {
      "cell_type": "code",
      "execution_count": null,
      "metadata": {
        "id": "3fYL2VqFTxZm"
      },
      "outputs": [],
      "source": [
        "X_test = test.drop(['id', '.geo'], axis=1)"
      ]
    },
    {
      "cell_type": "code",
      "execution_count": null,
      "metadata": {
        "id": "wLBXTeJv7KP7"
      },
      "outputs": [],
      "source": [
        "pipe.fit(X,y)\n",
        "solution['crop'] = pipe.predict(X_test)"
      ]
    },
    {
      "cell_type": "code",
      "execution_count": null,
      "metadata": {
        "id": "0PHhTtGr7KSs"
      },
      "outputs": [],
      "source": [
        "solution.to_csv('solution_lgb_pipe.csv', index=False) "
      ]
    },
    {
      "cell_type": "markdown",
      "source": [
        "## Вывод"
      ],
      "metadata": {
        "id": "tsEwWCmdN2-L"
      }
    },
    {
      "cell_type": "markdown",
      "source": [
        "В ходе исследования было добавлены новые признаки: широта и долгота, а также средние значения NDVI за каждый представленный месяц. \n",
        "\n",
        "В результате лучшая модель - LightGBM на дефолтных параметрах и стандартизированных признаках, которая показала значение метрики Recall 0.9734 на кросс-валидации."
      ],
      "metadata": {
        "id": "xmQSojVUN7bt"
      }
    }
  ],
  "metadata": {
    "colab": {
      "toc_visible": true,
      "provenance": []
    },
    "gpuClass": "standard",
    "kernelspec": {
      "display_name": "Python 3",
      "name": "python3"
    },
    "language_info": {
      "name": "python"
    }
  },
  "nbformat": 4,
  "nbformat_minor": 0
}